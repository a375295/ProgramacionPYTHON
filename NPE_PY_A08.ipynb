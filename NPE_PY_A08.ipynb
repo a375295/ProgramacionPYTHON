{
  "nbformat": 4,
  "nbformat_minor": 0,
  "metadata": {
    "colab": {
      "provenance": [],
      "authorship_tag": "ABX9TyMdOeVPVxAFAl4R7uYtXg2D",
      "include_colab_link": true
    },
    "kernelspec": {
      "name": "python3",
      "display_name": "Python 3"
    },
    "language_info": {
      "name": "python"
    }
  },
  "cells": [
    {
      "cell_type": "markdown",
      "metadata": {
        "id": "view-in-github",
        "colab_type": "text"
      },
      "source": [
        "<a href=\"https://colab.research.google.com/github/a375295/ProgramacionPYTHON/blob/main/NPE_PY_A08.ipynb\" target=\"_parent\"><img src=\"https://colab.research.google.com/assets/colab-badge.svg\" alt=\"Open In Colab\"/></a>"
      ]
    },
    {
      "cell_type": "markdown",
      "source": [
        "**ACTIVIDAD 8**\n",
        "\n",
        "1.- Programa en python que genere un número entre el 1 y 10 (no visible)  preguntarle al usuario que número cree que generó la computadora, el usuario tendrá 3 oportunidades de adivinar. \n",
        "\n",
        "Decir si adivino o si falló en sus 3 intentos.\n",
        "\n",
        "**NOTA:** 100% VALIDADO (usar función para validar números)\n",
        "\n",
        "**NOTA2:** El usuario podrá jugar cuantas veces lo desee, al final del juego desplegar cantidad de ganados y perdidos\n",
        "\n",
        "\n",
        "\n"
      ],
      "metadata": {
        "id": "_5DtZWXiMLES"
      }
    },
    {
      "cell_type": "code",
      "source": [
        "import random"
      ],
      "metadata": {
        "id": "mS6qo7EIPMaN"
      },
      "execution_count": 1,
      "outputs": []
    },
    {
      "cell_type": "code",
      "execution_count": 2,
      "metadata": {
        "id": "cScKyTpdMCFv"
      },
      "outputs": [],
      "source": [
        "def validar_numero(numero):\n",
        "    if numero.isdigit():\n",
        "        numero = int(numero)\n",
        "        if 1 <= numero <= 10:\n",
        "            return numero\n",
        "    return None"
      ]
    },
    {
      "cell_type": "code",
      "source": [
        "ganados = 0\n",
        "perdidos = 0\n",
        "\n",
        "while True:\n",
        "    numero_secreto = random.randint(1, 10)\n",
        "    intentos = 0\n",
        "    print(\"Adivina el número secreto (entre 1 y 10) en 3 intentos:\")\n",
        "    while intentos < 3:\n",
        "        intentos += 1\n",
        "        numero_usuario = input(f\"Intento #{intentos}: \")\n",
        "        numero_usuario = validar_numero(numero_usuario)\n",
        "        if numero_usuario is None:\n",
        "            print(\"Ingresa un número válido (entre 1 y 10).\")\n",
        "        elif numero_usuario == numero_secreto:\n",
        "            print(\"¡Felicitaciones! Adivinaste el número secreto.\")\n",
        "            ganados += 1\n",
        "            break\n",
        "        else:\n",
        "            print(\"Ese no es el número secreto.\")\n",
        "    else:\n",
        "        print(f\"Lo siento, perdiste. El número secreto era {numero_secreto}.\")\n",
        "        perdidos += 1\n",
        "    jugar_de_nuevo = input(\"¿Quieres jugar de nuevo? (s/n) \")\n",
        "    if jugar_de_nuevo.lower() != \"s\":\n",
        "        break\n",
        "\n",
        "print(f\"Ganados: {ganados}, Perdidos: {perdidos}\")"
      ],
      "metadata": {
        "colab": {
          "base_uri": "https://localhost:8080/"
        },
        "id": "XJiZCEG1N5IP",
        "outputId": "016f5abb-fb90-4f13-f02f-a0a2b5f1ead5"
      },
      "execution_count": null,
      "outputs": [
        {
          "output_type": "stream",
          "name": "stdout",
          "text": [
            "Adivina el número secreto (entre 1 y 10) en 3 intentos:\n",
            "Intento #1: 1\n",
            "Ese no es el número secreto.\n",
            "Intento #2: 23\n",
            "Ingresa un número válido (entre 1 y 10).\n",
            "Intento #3: 5\n",
            "¡Felicitaciones! Adivinaste el número secreto.\n",
            "¿Quieres jugar de nuevo? (s/n) n\n",
            "Ganados: 1, Perdidos: 0\n"
          ]
        }
      ]
    },
    {
      "cell_type": "markdown",
      "source": [
        "**2.-** El juego Busca Número muestra una lista de 10 numeros, sin mostrar su contenido, al usuario se le muestra un número que se generó aleatoriamente y el usuario tendrá 3 intentos de adivinar en qué índice del arreglo se encuentra. \n",
        "\n",
        "- El usuario recibirá un mensaje que diga GANASTE, PERDISTE, TIENES UN NUEVO INTENTO\n",
        "- El usuario podrá jugar cuantas veces lo desee.\n",
        "\n",
        "**NOTA:** La lista se deberá llenar con números aleatorios del 1 al 10 no repetidos.\n",
        "(Hacer una función que regrese la lista con los 10 números sin repetir).\n",
        "\n",
        "**NOTA:** REALIZA 3 VERSIONES DIFERENTES DEL LLENADO DE LA LISTA ALEATORIA\n",
        "\n",
        "**VERSIÓN A)** Usar ciclos para validar los repetidos, y sólo random para generar los números dentro del rango.\n",
        "\n",
        "**VERSIÓN B)** Usa funciones de la librería Random para llenar la lista con los número sin repetir."
      ],
      "metadata": {
        "id": "zVpcdes40Jl3"
      }
    },
    {
      "cell_type": "code",
      "source": [
        "# VERSIÓN A) Usar ciclos para validar los repetidos, y sólo random para generar los números dentro del rango\n",
        "def generar_lista_v1():\n",
        "    numeros = []\n",
        "    while len(numeros) < 10:\n",
        "        num = random.randint(1, 10)\n",
        "        if num not in numeros:\n",
        "            numeros.append(num)\n",
        "    return numeros"
      ],
      "metadata": {
        "id": "smDyVvFv000S"
      },
      "execution_count": null,
      "outputs": []
    },
    {
      "cell_type": "code",
      "source": [
        "# VERSIÓN B) Usa funciones de la librería Random para llenar la lista con los número sin repetir\n",
        "def generar_lista_v2():\n",
        "    numeros = random.sample(range(1, 11), 10)\n",
        "    return numeros"
      ],
      "metadata": {
        "id": "5PxSwS6Z1qa-"
      },
      "execution_count": null,
      "outputs": []
    },
    {
      "cell_type": "code",
      "source": [
        "# Juego con la Version A\n",
        "def jugar():\n",
        "    numeros = generar_lista_v1()\n",
        "    indice = random.randint(0, 9)\n",
        "    intentos = 3\n",
        "    while intentos > 0:\n",
        "        print(f\"Tienes {intentos} intentos para adivinar en qué índice se encuentra el número.\")\n",
        "        adivinanza = int(input(\"Ingresa tu número: \"))\n",
        "        if adivinanza == indice:\n",
        "            print(\"¡GANASTE!\")\n",
        "            return\n",
        "        else:\n",
        "            print(\"No es el índice correcto.\")\n",
        "            intentos -= 1\n",
        "            if intentos > 0:\n",
        "                print(\"Tienes un nuevo intento.\")\n",
        "    print(f\"PERDISTE. El número estaba en el índice {indice}.\")\n",
        "    \n",
        "# Jugar mientras el usuario lo desee\n",
        "while True:\n",
        "    print(\"¡Bienvenido al juego Busca Número!\")\n",
        "    jugar()\n",
        "    continuar = input(\"¿Quieres jugar de nuevo? (s/n): \")\n",
        "    if continuar.lower() != \"s\":\n",
        "        break\n",
        "print(\"¡Gracias por jugar!\")"
      ],
      "metadata": {
        "colab": {
          "base_uri": "https://localhost:8080/"
        },
        "id": "BtMsQFQ21_1b",
        "outputId": "7d5b5686-d7de-4255-ef88-47e4e0e1da42"
      },
      "execution_count": null,
      "outputs": [
        {
          "output_type": "stream",
          "name": "stdout",
          "text": [
            "¡Bienvenido al juego Busca Número!\n",
            "Tienes 3 intentos para adivinar en qué índice se encuentra el número.\n",
            "Ingresa tu número: 3\n",
            "No es el índice correcto.\n",
            "Tienes un nuevo intento.\n",
            "Tienes 2 intentos para adivinar en qué índice se encuentra el número.\n",
            "Ingresa tu número: 5\n",
            "No es el índice correcto.\n",
            "Tienes un nuevo intento.\n",
            "Tienes 1 intentos para adivinar en qué índice se encuentra el número.\n",
            "Ingresa tu número: 7\n",
            "No es el índice correcto.\n",
            "PERDISTE. El número estaba en el índice 8.\n",
            "¿Quieres jugar de nuevo? (s/n): s\n",
            "¡Bienvenido al juego Busca Número!\n",
            "Tienes 3 intentos para adivinar en qué índice se encuentra el número.\n",
            "Ingresa tu número: 1\n",
            "No es el índice correcto.\n",
            "Tienes un nuevo intento.\n",
            "Tienes 2 intentos para adivinar en qué índice se encuentra el número.\n",
            "Ingresa tu número: 3\n",
            "No es el índice correcto.\n",
            "Tienes un nuevo intento.\n",
            "Tienes 1 intentos para adivinar en qué índice se encuentra el número.\n",
            "Ingresa tu número: 6\n",
            "No es el índice correcto.\n",
            "PERDISTE. El número estaba en el índice 7.\n",
            "¿Quieres jugar de nuevo? (s/n): n\n",
            "¡Gracias por jugar!\n"
          ]
        }
      ]
    },
    {
      "cell_type": "code",
      "source": [
        "# Juego con la version B\n",
        "def jugar():\n",
        "    numeros = generar_lista_v2() \n",
        "    indice = random.randint(0, 9)\n",
        "    intentos = 3\n",
        "    while intentos > 0:\n",
        "        print(f\"Tienes {intentos} intentos para adivinar en qué índice se encuentra el número.\")\n",
        "        adivinanza = int(input(\"Ingresa tu número: \"))\n",
        "        if adivinanza == indice:\n",
        "            print(\"¡GANASTE!\")\n",
        "            return\n",
        "        else:\n",
        "            print(\"No es el índice correcto.\")\n",
        "            intentos -= 1\n",
        "            if intentos > 0:\n",
        "                print(\"Tienes un nuevo intento.\")\n",
        "    print(f\"PERDISTE. El número estaba en el índice {indice}.\")\n",
        "    \n",
        "# Jugar mientras el usuario lo desee\n",
        "while True:\n",
        "    print(\"¡Bienvenido al juego Busca Número!\")\n",
        "    jugar()\n",
        "    continuar = input(\"¿Quieres jugar de nuevo? (s/n): \")\n",
        "    if continuar.lower() != \"s\":\n",
        "        break\n",
        "print(\"¡Gracias por jugar!\")"
      ],
      "metadata": {
        "colab": {
          "base_uri": "https://localhost:8080/"
        },
        "id": "PdXMOoj32It4",
        "outputId": "f335d89e-f9bf-4504-ea94-c414c6dc0ca5"
      },
      "execution_count": null,
      "outputs": [
        {
          "output_type": "stream",
          "name": "stdout",
          "text": [
            "¡Bienvenido al juego Busca Número!\n",
            "Tienes 3 intentos para adivinar en qué índice se encuentra el número.\n",
            "Ingresa tu número: 1\n",
            "No es el índice correcto.\n",
            "Tienes un nuevo intento.\n",
            "Tienes 2 intentos para adivinar en qué índice se encuentra el número.\n",
            "Ingresa tu número: 4\n",
            "No es el índice correcto.\n",
            "Tienes un nuevo intento.\n",
            "Tienes 1 intentos para adivinar en qué índice se encuentra el número.\n",
            "Ingresa tu número: 6\n",
            "¡GANASTE!\n",
            "¿Quieres jugar de nuevo? (s/n): n\n",
            "¡Gracias por jugar!\n"
          ]
        }
      ]
    }
  ]
}