{
  "nbformat": 4,
  "nbformat_minor": 0,
  "metadata": {
    "colab": {
      "provenance": [],
      "authorship_tag": "ABX9TyPRcg+Kk42aSFinQuZgYRJH"
    },
    "kernelspec": {
      "name": "python3",
      "display_name": "Python 3"
    },
    "language_info": {
      "name": "python"
    }
  },
  "cells": [
    {
      "cell_type": "markdown",
      "source": [
        "**ACTIVIDAD 3**\n",
        "\n",
        "REALIZA LOS SIGUIENTES EJERCICIOS USANDO LA FORMA ADECUADA Y OPTIMIZANDO LOS PROCESOS USANDO EL CONTROL DE FLUJO DE MANERA MAS ADECUADA.\n",
        "\n",
        "1.- Algoritmo que lea 3 calificaciones calcule el promedio del alumno y desplegar: \n",
        "\n",
        "Si prom < 30 Repetir \n",
        "\n",
        "Si prom >=30 y prom <60 extraordinario \n",
        "\n",
        "Si prom >=60 y prom <70 suficiente \n",
        "\n",
        "Si prom >=70 y prom <80 Regular \n",
        "\n",
        "Si prom >=80 y prom <90 bien \n",
        "\n",
        "Si prom >=90 y prom <98 muy bien \n",
        "\n",
        "Si prom >=98 y prom <=100 excelente \n",
        "\n",
        "Si prom >100 Error en promedio \n",
        "\n",
        "**Realizar el algoritmo optimizado**"
      ],
      "metadata": {
        "id": "3OmSE5XC7MKb"
      }
    },
    {
      "cell_type": "code",
      "source": [
        "cal1 = float(input(\"Ingrese la primera calificación: \"))\n",
        "cal2 = float(input(\"Ingrese la segunda calificación: \"))\n",
        "cal3 = float(input(\"Ingrese la tercera calificación: \"))\n",
        "\n",
        "prom = (cal1 + cal2 + cal3) / 3\n",
        "\n",
        "if prom < 30:\n",
        "  print(f\"El alumno debera repetir la materia, tiene un promedio de {prom}\")\n",
        "if prom >= 30 and prom < 60:\n",
        "  print(f\"El alumno debera hacer extraordinario, tiene un promedio de {prom}\")\n",
        "if prom >= 60 and prom < 70:\n",
        "  print(f\"Sufciente, con un promedio de {prom}\")\n",
        "if prom >= 70 and prom < 80:\n",
        "  print(f\"Regular, con promedio de {prom}\")\n",
        "if prom >= 80 and prom < 90:\n",
        "  print(f\"Bien, con promedio de {prom}\")\n",
        "if prom >= 90 and prom < 98:\n",
        "  print(f\"Muy bien, con promedio de {prom}\")\n",
        "if prom >= 98 and prom <= 100:\n",
        "  print(f\"Excelente, con promedio de {prom}\")\n",
        "if prom > 100:\n",
        "  print(f\"Error al sacar promedio\")"
      ],
      "metadata": {
        "colab": {
          "base_uri": "https://localhost:8080/"
        },
        "id": "caIg__PS7dYS",
        "outputId": "5c02859d-13f6-43db-ee60-e41034332292"
      },
      "execution_count": null,
      "outputs": [
        {
          "output_type": "stream",
          "name": "stdout",
          "text": [
            "Ingrese la primera calificación: 100\n",
            "Ingrese la segunda calificación: 90\n",
            "Ingrese la tercera calificación: 80\n",
            "Muy bien, con promedio de 90.0\n"
          ]
        }
      ]
    },
    {
      "cell_type": "markdown",
      "source": [
        "2.- Algoritmo que sirva para calcular el salario semanal de un trabajador donde se obtiene como dato de entrada las **horas semanales trabajadas**, **el salario por hora**. \n",
        "\n",
        "El programa deberá calcular el salario normal, salario extra y salario total, considerando lo siguiente: \n",
        "\n",
        "*  Jornada Normal de 40 horas. \n",
        "*  El salario normal se considera las horas trabajadas menores o igual a la jornada normal.\n",
        "*  Salario extra se considera las horas trabajadas mayores a la jornada normal y se pagan dobles las primeras 9 y triples a partir de la décima hora extra.\n",
        "\n",
        "Nota: Desplegar todos los datos (Salario x hora, Horas Trabajadas, Salario normal, Salario extra y Salario Total)"
      ],
      "metadata": {
        "id": "ANZ-u6v4_4TN"
      }
    },
    {
      "cell_type": "code",
      "source": [
        "horas_trabajadas = int(input(\"Ingrese las horas semanales trabajadas: \"))\n",
        "salario_hora = float(input(\"Ingrese el salario por hora: \"))\n",
        "\n",
        "if horas_trabajadas <= 40:\n",
        "    salario_normal = horas_trabajadas * salario_hora\n",
        "    salario_extra  = 0;\n",
        "else:\n",
        "    salario_normal = 40 * salario_hora\n",
        "    horas_extra = horas_trabajadas - 40\n",
        "    if horas_extra <= 9:\n",
        "        salario_extra = horas_extra * salario_hora * 2\n",
        "    else:\n",
        "        salario_extra = (9 * salario_hora * 2) + ((horas_extra - 9) * salario_hora * 3)\n",
        "\n",
        "salario_total = salario_normal + salario_extra\n",
        "\n",
        "print(f\"Salario por hora $ {salario_hora}\")\n",
        "print(f\"Horas Trabajadas {horas_trabajadas}\")\n",
        "print(f\"Salario Normal ${salario_normal}\")\n",
        "print(f\"Salario Extra ${salario_extra}\")\n",
        "print(f\"Salario Total ${salario_total}\")"
      ],
      "metadata": {
        "colab": {
          "base_uri": "https://localhost:8080/"
        },
        "id": "XzG7TwLAA0d-",
        "outputId": "db394a64-4607-42cc-cae4-29f0a9491fa8"
      },
      "execution_count": null,
      "outputs": [
        {
          "output_type": "stream",
          "name": "stdout",
          "text": [
            "Ingrese las horas semanales trabajadas: 50\n",
            "Ingrese el salario por hora: 50\n",
            "Salario por hora $ 50.0\n",
            "Horas Trabajadas 50\n",
            "Salario Normal $2000.0\n",
            "Salario Extra $1050.0\n",
            "Salario Total $3050.0\n"
          ]
        }
      ]
    },
    {
      "cell_type": "markdown",
      "source": [
        "3.- Algoritmo que sirva para desplegar el Total de una llamada telefónica donde se pide como datos de entrada los **minutos** y **el tipo de llamada**, se cobra de la siguiente manera:\n",
        "\n",
        "1. Llamada Local $3.00 sin límite de tiempo \n",
        "\n",
        "2. Llamada Nacional $7.00 por los 3 primeros minutos y 2.00 minuto adicional \n",
        "\n",
        "3. Llamada Internacional $9.00 por los 2 primeros minutos y 4.00 minuto adicional\n",
        "\n",
        " **Desplegar, Subtotal,Iva (16%) y Total.**"
      ],
      "metadata": {
        "id": "RDxRSsgenBhs"
      }
    },
    {
      "cell_type": "code",
      "source": [
        "minutos = int(input(\"Ingrese los minutos de la llamada: \"))\n",
        "tipo_llamada = int(input(\"Ingrese el tipo de llamada (1=Local, 2=Nacional, 3=Internacional): \"))\n",
        "\n",
        "# Se calcula el subtotal de acuerdo al tipo de llamada\n",
        "if tipo_llamada == 1:\n",
        "    subtotal = 3\n",
        "elif tipo_llamada == 2:\n",
        "    if minutos <= 3:\n",
        "        subtotal = 7\n",
        "    else:\n",
        "        subtotal = 7 + ((minutos - 3) * 2)\n",
        "elif tipo_llamada == 3:\n",
        "    if minutos <= 2:\n",
        "        subtotal = 9\n",
        "    else:\n",
        "        subtotal = 9 + ((minutos - 2) * 4)\n",
        "else:\n",
        "    print(\"Tipo de llamada no válido\")\n",
        "\n",
        "# Se calcula el IVA y el total a pagar\n",
        "iva = subtotal * 0.16\n",
        "total_pagar = subtotal + iva\n",
        "\n",
        "# Se imprimen los resultados\n",
        "print(f\"Subtotal: ${subtotal}\")\n",
        "print(f\"IVA (16%): ${iva}\")\n",
        "print(f\"Total a pagar: ${total_pagar}\")"
      ],
      "metadata": {
        "colab": {
          "base_uri": "https://localhost:8080/"
        },
        "id": "zM2rUs13pFsV",
        "outputId": "cbad16e6-8c1e-4be7-a953-405d124da06c"
      },
      "execution_count": null,
      "outputs": [
        {
          "output_type": "stream",
          "name": "stdout",
          "text": [
            "Ingrese los minutos de la llamada: 30\n",
            "Ingrese el tipo de llamada (1=Local, 2=Nacional, 3=Internacional): 2\n",
            "Subtotal: $61\n",
            "IVA (16%): $9.76\n",
            "Total a pagar: $70.76\n"
          ]
        }
      ]
    },
    {
      "cell_type": "markdown",
      "source": [
        "4.- Algoritmo que sirva para calcular el Total a pagar por consumo de agua, donde el dato de entrada son los M3 de agua consumidos, Tomar en cuenta que **se cobra escalonada** de la Siguiente manera: \n",
        "\n",
        "* Rango1: 0 al 4 M3 $50 x facturación sin importar cuánto consumió en este rango \n",
        "\n",
        "* Rango2: 5 a 15 M3 $8.00 x M3 \n",
        "\n",
        "* Rango3: 16 a 50 M3 $10.00 x M3 \n",
        "\n",
        "* Rango4: 51 M3 en adelante $11.00 x M3 \n",
        "\n",
        "**Nota: Desplegar SubTotal, Iva(16%), y Total a pagar.**"
      ],
      "metadata": {
        "id": "V0urPX58pvaS"
      }
    },
    {
      "cell_type": "code",
      "source": [
        "m3_consumidos = float(input(\"Ingrese los M3 de agua consumidos: \"))\n",
        "\n",
        "# Se calcula el subtotal de acuerdo a los rangos establecidos\n",
        "if m3_consumidos <= 4:\n",
        "    subtotal = 50\n",
        "elif m3_consumidos <= 15:\n",
        "    subtotal = 50 + ((m3_consumidos - 4) * 8)\n",
        "elif m3_consumidos <= 50:\n",
        "    subtotal = 162 + ((m3_consumidos - 15) * 10)\n",
        "else:\n",
        "    subtotal = 662 + ((m3_consumidos - 50) * 11)\n",
        "\n",
        "# Se calcula el IVA y el total a pagar\n",
        "iva = subtotal * 0.16\n",
        "total_pagar = subtotal + iva\n",
        "\n",
        "# Se imprimen los resultados\n",
        "print(\"Subtotal: $\", subtotal)\n",
        "print(\"IVA (16%): $\", iva)\n",
        "print(\"Total a pagar: $\", total_pagar)"
      ],
      "metadata": {
        "colab": {
          "base_uri": "https://localhost:8080/"
        },
        "id": "oqtCJbaNr4Bf",
        "outputId": "aa622b7d-0006-419e-e84e-547eb3a88531"
      },
      "execution_count": null,
      "outputs": [
        {
          "output_type": "stream",
          "name": "stdout",
          "text": [
            "Ingrese los M3 de agua consumidos: 14\n",
            "Subtotal: $ 130.0\n",
            "IVA (16%): $ 20.8\n",
            "Total a pagar: $ 150.8\n"
          ]
        }
      ]
    },
    {
      "cell_type": "markdown",
      "source": [
        "5- En la materia de Metodología de la programación se aplican 5 exámenes, calcular el promedio final de la materia donde la calificación menor de los exámenes se anula y el promedio se calcula en base a 4 exámenes.\n",
        "\n",
        "**Desplegar el promedio final**."
      ],
      "metadata": {
        "id": "RThlkhCAsXfN"
      }
    },
    {
      "cell_type": "code",
      "source": [
        "cal1 = float(input(\"Introduce la calificación del examen 1: \"))\n",
        "cal2 = float(input(\"Introduce la calificación del examen 2: \"))\n",
        "cal3 = float(input(\"Introduce la calificación del examen 3: \"))\n",
        "cal4 = float(input(\"Introduce la calificación del examen 4: \"))\n",
        "cal5 = float(input(\"Introduce la calificación del examen 5: \"))\n",
        "\n",
        "# Encontrar la calificación menor y anularla\n",
        "if cal1 <= cal2 and cal1 <= cal3 and cal1 <= cal4 and cal1 <= cal5:\n",
        "    menor = cal1\n",
        "elif cal2 <= cal3 and cal2 <= cal4 and cal2 <= cal5:\n",
        "    menor = cal2\n",
        "elif cal3 <= cal4 and cal3 <= cal5:\n",
        "    menor = cal3\n",
        "elif cal4 <= cal5:\n",
        "    menor = cal4\n",
        "else:\n",
        "    menor = cal5\n",
        "\n",
        "# Calcular el promedio de las 4 calificaciones restantes\n",
        "promedio = (cal1 + cal2 + cal3 + cal4 + cal5 - menor) / 4\n",
        "\n",
        "# Desplegar el promedio final\n",
        "print(f\"El promedio final de la materia es: {promedio}\")"
      ],
      "metadata": {
        "colab": {
          "base_uri": "https://localhost:8080/"
        },
        "id": "YYgiilVKycla",
        "outputId": "1ead3544-560c-4b61-f9c8-21170e3dfde8"
      },
      "execution_count": null,
      "outputs": [
        {
          "output_type": "stream",
          "name": "stdout",
          "text": [
            "Introduce la calificación del examen 1: 10\n",
            "Introduce la calificación del examen 2: 9\n",
            "Introduce la calificación del examen 3: 9\n",
            "Introduce la calificación del examen 4: 8\n",
            "Introduce la calificación del examen 5: 6\n",
            "El promedio final de la materia es: 9.0\n"
          ]
        }
      ]
    },
    {
      "cell_type": "markdown",
      "source": [
        "6.- Algoritmo que sirva para el juego del CHINCHAMPU (Piedra, Papel, Tijera) para 1 jugador y la computadora, **(usar condición anidada)**"
      ],
      "metadata": {
        "id": "1nMUdI_mzEwS"
      }
    },
    {
      "cell_type": "code",
      "source": [
        "import random\n",
        "\n",
        "print(\"1: Piedra, 2: Papel, 3: Tijera\")\n",
        "\n",
        "# Obtenemos la elección del jugador\n",
        "jugador = int(input(\"Introduce tu elección (1-3): \"))\n",
        "\n",
        "# Generamos la elección aleatoria de la computadora\n",
        "computadora = random.randint(1, 3)\n",
        "\n",
        "# Evaluamos las elecciones y determinamos al ganador\n",
        "if jugador == computadora:\n",
        "    print(\"Empate\")\n",
        "elif jugador == 1:\n",
        "    if computadora == 2:\n",
        "        print(\"Perdiste, Papel envuelve a Piedra\")\n",
        "    else:\n",
        "        print(\"Ganaste, Piedra rompe Tijera\")\n",
        "elif jugador == 2:\n",
        "    if computadora == 3:\n",
        "        print(\"Perdiste, Tijera corta Papel\")\n",
        "    else:\n",
        "        print(\"Ganaste, Papel envuelve a Piedra\")\n",
        "elif jugador == 3:\n",
        "    if computadora == 1:\n",
        "        print(\"Perdiste, Piedra rompe Tijera\")\n",
        "    else:\n",
        "        print(\"Ganaste, Tijera corta Papel\")\n",
        "else:\n",
        "    print(\"Elección inválida, inténtalo de nuevo\")"
      ],
      "metadata": {
        "colab": {
          "base_uri": "https://localhost:8080/"
        },
        "id": "APhKx0Q5zKdW",
        "outputId": "47c98933-0536-4e56-f694-baac5515aaaf"
      },
      "execution_count": null,
      "outputs": [
        {
          "output_type": "stream",
          "name": "stdout",
          "text": [
            "1: Piedra, 2: Papel, 3: Tijera\n",
            "Introduce tu elección (1-3): 3\n",
            "Ganaste, Tijera corta Papel\n"
          ]
        }
      ]
    },
    {
      "cell_type": "markdown",
      "source": [
        "7.- Algoritmo que sirva para el juego del CHINCHAMPU (Piedra, Papel, Tijera) para 1 jugador y la computadora, **(usar selección múltiple)** "
      ],
      "metadata": {
        "id": "DYtIKg-h0ZyA"
      }
    },
    {
      "cell_type": "code",
      "source": [
        "import random\n",
        "\n",
        "opciones = ['piedra', 'papel', 'tijera']\n",
        "jugada_usuario = input(\"Elige piedra, papel o tijera: \")\n",
        "jugada_computadora = random.choice(opciones)\n",
        "\n",
        "print(\"Tu jugada: \", jugada_usuario)\n",
        "print(\"Jugada de la computadora: \", jugada_computadora)\n",
        "\n",
        "resultado = \"\"\n",
        "\n",
        "if jugada_usuario == jugada_computadora:\n",
        "    resultado = \"empate\"\n",
        "else:\n",
        "    jugadas = jugada_usuario + jugada_computadora\n",
        "    switcher = {\n",
        "        'piedratijera': \"Ganaste!\",\n",
        "        'papelpiedra': \"Ganaste!\",\n",
        "        'tijerapapel': \"Ganaste!\",\n",
        "        'tijerapiedra': \"Perdiste!\",\n",
        "        'piedrapapel': \"Perdiste!\",\n",
        "        'papeltijera': \"Perdiste!\"\n",
        "    }\n",
        "    resultado = switcher.get(jugadas)\n",
        "\n",
        "print(resultado)"
      ],
      "metadata": {
        "id": "Q7ujnwZ00cju",
        "colab": {
          "base_uri": "https://localhost:8080/",
          "height": 0
        },
        "outputId": "80ebae7c-7a05-4eb5-a7cb-f16fc1add940"
      },
      "execution_count": 6,
      "outputs": [
        {
          "output_type": "stream",
          "name": "stdout",
          "text": [
            "Elige piedra, papel o tijera: papel\n",
            "Tu jugada:  papel\n",
            "Jugada de la computadora:  papel\n",
            "empate\n"
          ]
        }
      ]
    },
    {
      "cell_type": "markdown",
      "source": [
        "8.- Una tienda de electrónica ofrece descuentos a sus clientes, dependiendo del tipo de producto que compren. Si el cliente compra una computadora, tiene un descuento del 5% en el precio de la computadora y un 10% de descuento en una impresora si la compra junto con la computadora. Si el cliente compra una televisión, tiene un descuento del 7% en el precio de la televisión y un 15% de descuento en una barra de sonido si la compra junto con la televisión. Si el cliente compra una consola de videojuegos, tiene un descuento del 10% en el precio de la consola y un 20% de descuento en un juego si lo compra junto con la consola. Escribe un programa que calcule el precio a pagar por un cliente, tomando en cuenta los descuentos correspondientes."
      ],
      "metadata": {
        "id": "_948X7cd1PSo"
      }
    },
    {
      "cell_type": "code",
      "source": [
        "producto = int(input(\"Ingrese el tipo de producto (1. computadora, 2. televisión, 3.consola): \"))\n",
        "precio = float(input(\"Ingrese el precio del producto: \"))\n",
        "\n",
        "descuento_producto = 0\n",
        "descuento_accesorio = 0\n",
        "\n",
        "# Verificamos el tipo de producto y aplicamos el descuento correspondiente\n",
        "if producto == 1:\n",
        "    descuento_producto = precio * 0.05\n",
        "    respuesta = input(\"¿Desea agregar una impresora? (S/N): \")\n",
        "    if respuesta == \"S\":\n",
        "        descuento_accesorio = precio * 0.1\n",
        "elif producto == 2:\n",
        "    descuento_producto = precio * 0.07\n",
        "    respuesta = input(\"¿Desea agregar una barra de sonido? (S/N): \")\n",
        "    if respuesta == \"S\":\n",
        "        descuento_accesorio = precio * 0.15\n",
        "elif producto == 3:\n",
        "    descuento_producto = precio * 0.1\n",
        "    respuesta = input(\"¿Desea agregar un juego? (S/N): \")\n",
        "    if respuesta == \"S\":\n",
        "        descuento_accesorio = precio * 0.2\n",
        "\n",
        "# Calculamos el precio final y lo mostramos al usuario\n",
        "precio_final = precio - descuento_producto - descuento_accesorio\n",
        "print(\"El precio final a pagar es: $\", precio_final)"
      ],
      "metadata": {
        "colab": {
          "base_uri": "https://localhost:8080/"
        },
        "id": "q1bT5ESn144B",
        "outputId": "86957d47-dbc7-4131-e3b8-c7a5732b84ae"
      },
      "execution_count": null,
      "outputs": [
        {
          "output_type": "stream",
          "name": "stdout",
          "text": [
            "Ingrese el tipo de producto (1. computadora, 2. televisión, 3.consola): 1\n",
            "Ingrese el precio del producto: 20\n",
            "¿Desea agregar una impresora? (S/N): S\n",
            "El precio final a pagar es: $ 17.0\n"
          ]
        }
      ]
    },
    {
      "cell_type": "markdown",
      "source": [
        "9.- En una tienda de ropa, los precios de los productos cambian dependiendo de la temporada. Durante la temporada de verano, todos los productos tienen un descuento del 20%. Durante la temporada de invierno, los productos con etiqueta roja tienen un descuento del 30% y los productos con etiqueta verde tienen un descuento del 15%. Durante la temporada de primavera y otoño, los productos con etiqueta amarilla tienen un descuento del 10%. Escribe un programa que calcule el precio a pagar por un cliente, tomando en cuenta los descuentos correspondientes."
      ],
      "metadata": {
        "id": "9XsLKZaz26Sr"
      }
    },
    {
      "cell_type": "code",
      "source": [
        "precio = float(input(\"Introduce el precio del producto: \"))\n",
        "etiqueta = input(\"Introduce el color de la etiqueta (roja, verde o amarilla): \")\n",
        "temporada = input(\"Introduce la temporada (verano, invierno, primavera u otoño): \")\n",
        "\n",
        "if temporada == \"verano\":\n",
        "    precio_descuento = precio * 0.8\n",
        "elif temporada == \"invierno\":\n",
        "    if etiqueta == \"roja\":\n",
        "        precio_descuento = precio * 0.7\n",
        "    elif etiqueta == \"verde\":\n",
        "        precio_descuento = precio * 0.85\n",
        "    else:\n",
        "        precio_descuento = precio\n",
        "else:\n",
        "    if etiqueta == \"amarilla\":\n",
        "        precio_descuento = precio * 0.9\n",
        "    else:\n",
        "        precio_descuento = precio\n",
        "        \n",
        "print(f\"El precio a pagar es: {precio_descuento}\")"
      ],
      "metadata": {
        "id": "mzFPGlBE28dG",
        "colab": {
          "base_uri": "https://localhost:8080/",
          "height": 0
        },
        "outputId": "44202db7-b7c5-4b60-dbef-167d1aaabea2"
      },
      "execution_count": 3,
      "outputs": [
        {
          "output_type": "stream",
          "name": "stdout",
          "text": [
            "Introduce el precio del producto: 200\n",
            "Introduce el color de la etiqueta (roja, verde o amarilla): verde\n",
            "Introduce la temporada (verano, invierno, primavera u otoño): verano\n",
            "El precio a pagar es: 160.0\n"
          ]
        }
      ]
    },
    {
      "cell_type": "markdown",
      "source": [
        "10.- Un restaurante ofrece descuentos a sus clientes, dependiendo del día de la semana y del tipo de menú que pidan. Los lunes, los clientes que pidan el menú del día tienen un descuento del 10%. Los martes, los clientes que pidan el menú infantil tienen un descuento del 20%. Los miércoles, los clientes que pidan el menú vegetariano tienen un descuento del 15%. Los jueves, los clientes que pidan el menú del chef tienen un descuento del 5%. Los viernes, los clientes que pidan el menú del día tienen un descuento del 5%. Los sábados y domingos no hay descuentos. Escribe un programa que calcule el precio a pagar por un cliente, tomando en cuenta los descuentos correspondientes."
      ],
      "metadata": {
        "id": "wEvPCApF29ou"
      }
    },
    {
      "cell_type": "code",
      "source": [
        "precio = float(input(\"Introduce el precio del menú: \"))\n",
        "dia_semana = input(\"Introduce el día de la semana (lunes, martes, miércoles, jueves, viernes, sábado o domingo): \")\n",
        "tipo_menu = input(\"Introduce el tipo de menú (del día, infantil, vegetariano o del chef): \")\n",
        "\n",
        "if dia_semana == \"lunes\" and tipo_menu == \"del día\":\n",
        "    precio_descuento = precio * 0.9\n",
        "elif dia_semana == \"martes\" and tipo_menu == \"infantil\":\n",
        "    precio_descuento = precio * 0.8\n",
        "elif dia_semana == \"miércoles\" and tipo_menu == \"vegetariano\":\n",
        "    precio_descuento = precio * 0.85\n",
        "elif dia_semana == \"jueves\" and tipo_menu == \"del chef\":\n",
        "    precio_descuento = precio * 0.95\n",
        "elif dia_semana == \"viernes\" and tipo_menu == \"del día\":\n",
        "    precio_descuento = precio * 0.95\n",
        "else:\n",
        "    precio_descuento = precio\n",
        "\n",
        "print(f\"El precio a pagar es: {precio_descuento}\")"
      ],
      "metadata": {
        "id": "KRVTek1E3BvL",
        "colab": {
          "base_uri": "https://localhost:8080/",
          "height": 0
        },
        "outputId": "2b90b21e-97f8-4b90-9e09-2b8847997bea"
      },
      "execution_count": 4,
      "outputs": [
        {
          "output_type": "stream",
          "name": "stdout",
          "text": [
            "Introduce el precio del menú: 150\n",
            "Introduce el día de la semana (lunes, martes, miércoles, jueves, viernes, sábado o domingo): martes\n",
            "Introduce el tipo de menú (del día, infantil, vegetariano o del chef): infantil\n",
            "El precio a pagar es: 120.0\n"
          ]
        }
      ]
    }
  ]
}