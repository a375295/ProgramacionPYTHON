{
  "nbformat": 4,
  "nbformat_minor": 0,
  "metadata": {
    "colab": {
      "provenance": [],
      "authorship_tag": "ABX9TyPVesmDvsnRPXEOMoD2mP0T"
    },
    "kernelspec": {
      "name": "python3",
      "display_name": "Python 3"
    },
    "language_info": {
      "name": "python"
    }
  },
  "cells": [
    {
      "cell_type": "markdown",
      "source": [
        "# NOTA: EJERCICIOS ( 1,2,3 y 4 ) PARA SER RESUELTOS USANDO EXCLUSIVAMENTE CONDICIONES SIMPLES "
      ],
      "metadata": {
        "id": "ZkXUXVXvwEdg"
      }
    },
    {
      "cell_type": "markdown",
      "source": [
        "1.- Programa en Python que lea 2 números enteros, usar una condición y analizar los dos números y desplegar cual de los números es el mayor. 1"
      ],
      "metadata": {
        "id": "32ES7yq2nZC-"
      }
    },
    {
      "cell_type": "code",
      "source": [
        "num1 = int(input(\"Ingresa el primer numero: \"))\n",
        "num2 = int(input(\"Ingresa el segundo numero: \"))\n",
        "if  num1 > num2:\n",
        "  print(f\"El numero mayor es: {num1}\")\n",
        "else:\n",
        "  print(f\"El numero mayor es: {num2}\")\n"
      ],
      "metadata": {
        "colab": {
          "base_uri": "https://localhost:8080/"
        },
        "id": "B0_v0e5Cna7n",
        "outputId": "53a2368f-ae08-4843-b20c-c5b0f4f77e2e"
      },
      "execution_count": 22,
      "outputs": [
        {
          "output_type": "stream",
          "name": "stdout",
          "text": [
            "Ingresa el primer numero: 6\n",
            "Ingresa el segundo numero: 8\n",
            "El numero mayor es: 8\n"
          ]
        }
      ]
    },
    {
      "cell_type": "markdown",
      "source": [
        "2.- Programa en PythonAlgoritmo que lea 4 calificaciones de un alumno, calcular y desplegar el promedio acompañado de la leyenda \"APROBADO\" o \"REPROBADO\""
      ],
      "metadata": {
        "id": "ZjAgdy2bqovt"
      }
    },
    {
      "cell_type": "code",
      "source": [
        "cal1 = float(input(\"Ingrese la primera calificación: \"))\n",
        "cal2 = float(input(\"Ingrese la segunda calificación: \"))\n",
        "cal3 = float(input(\"Ingrese la tercera calificación: \"))\n",
        "cal4 = float(input(\"Ingrese la cuarta calificación: \"))\n",
        "\n",
        "promedio = (cal1 + cal2 + cal3 + cal4) / 4\n",
        "\n",
        "if promedio >= 6.0:\n",
        "    print(\"El alumno está aprobado con un promedio de\", promedio)\n",
        "else:\n",
        "    print(\"El alumno está reprobado con un promedio de\", promedio)"
      ],
      "metadata": {
        "colab": {
          "base_uri": "https://localhost:8080/"
        },
        "id": "muVYT1oxqqAW",
        "outputId": "de894b27-0adc-4a5a-c005-0269119fc1e5"
      },
      "execution_count": 23,
      "outputs": [
        {
          "output_type": "stream",
          "name": "stdout",
          "text": [
            "Ingrese la primera calificación: 9\n",
            "Ingrese la segunda calificación: 8\n",
            "Ingrese la tercera calificación: 10\n",
            "Ingrese la cuarta calificación: 7\n",
            "El alumno está aprobado con un promedio de 8.5\n"
          ]
        }
      ]
    },
    {
      "cell_type": "markdown",
      "source": [
        "3.- Programa en PythonAlgoritmo que a través de opciones (1.- HOMBRE 2.- MUJER ) preguntar al usuario cual es su sexo y desplegar la leyenda “HOMBRE ”, “MUJER”\n",
        "\n"
      ],
      "metadata": {
        "id": "3zjhtbstrMU8"
      }
    },
    {
      "cell_type": "code",
      "source": [
        "print(\"Seleccione su sexo:\")\n",
        "print(\"1.- HOMBRE\")\n",
        "print(\"2.- MUJER\")\n",
        "\n",
        "opcion = int(input(\"Ingrese su opción (1 o 2): \"))\n",
        "if opcion == 1:\n",
        "    print(\"Usted ha seleccionado HOMBRE\")\n",
        "if opcion == 2: \n",
        "    print(\"Usted ha seleccionado MUJER\")\n"
      ],
      "metadata": {
        "colab": {
          "base_uri": "https://localhost:8080/"
        },
        "id": "ACHoxW-As6Jk",
        "outputId": "eb6c8c7d-e43d-46ac-98c7-f9d751d1a461"
      },
      "execution_count": 25,
      "outputs": [
        {
          "output_type": "stream",
          "name": "stdout",
          "text": [
            "Seleccione su sexo:\n",
            "1.- HOMBRE\n",
            "2.- MUJER\n",
            "Ingrese su opción (1 o 2): 1\n",
            "Usted ha seleccionado HOMBRE\n"
          ]
        }
      ]
    },
    {
      "cell_type": "markdown",
      "source": [
        "4.- Programa en Python que lea un número entero, y desplegar si el número es “PAR” o “IMPAR”"
      ],
      "metadata": {
        "id": "1nT-YjXHt_IS"
      }
    },
    {
      "cell_type": "code",
      "source": [
        "num = int(input(\"Ingrese un número entero: \"))\n",
        "\n",
        "if num % 2 == 0:\n",
        "    print(f\"El número {num} es PAR\")\n",
        "else:\n",
        "    print(f\"El número {num} es IMPAR\")"
      ],
      "metadata": {
        "colab": {
          "base_uri": "https://localhost:8080/"
        },
        "id": "59WW1Wy4uCw-",
        "outputId": "556415af-d8b9-4d48-f807-ddcad76b5e25"
      },
      "execution_count": 19,
      "outputs": [
        {
          "output_type": "stream",
          "name": "stdout",
          "text": [
            "Ingrese un número entero: 3\n",
            "El número 3 es IMPAR\n"
          ]
        }
      ]
    },
    {
      "cell_type": "markdown",
      "source": [
        "# NOTA: EJERCICIOS (5,6,7 y 8) PARA SER RESUELTOS USANDO CONDICIÓN COMPUESTA"
      ],
      "metadata": {
        "id": "EpDwPaIYwDCN"
      }
    },
    {
      "cell_type": "markdown",
      "source": [
        "5.- Programa en Python que lea 2 números enteros, usar una condición y analizar los dos números y desplegar cual de los números es el mayor.\n",
        "\n"
      ],
      "metadata": {
        "id": "mzbRny6KwMoN"
      }
    },
    {
      "cell_type": "code",
      "source": [
        "num1 = int(input(\"Ingrese el primer número: \"))\n",
        "num2 = int(input(\"Ingrese el segundo número: \"))\n",
        "if num1 > num2:\n",
        "    print(f\"El número mayor es: {num1}\")\n",
        "elif num2 > num1:\n",
        "    print(f\"El número mayor es: {num2}\")\n",
        "else:\n",
        "    print(\"Los números son iguales\")"
      ],
      "metadata": {
        "colab": {
          "base_uri": "https://localhost:8080/"
        },
        "id": "k6lNu5jOwRlg",
        "outputId": "f352c5c0-48b6-4997-8e97-80e3f6e07fde"
      },
      "execution_count": 26,
      "outputs": [
        {
          "output_type": "stream",
          "name": "stdout",
          "text": [
            "Ingrese el primer número: 5\n",
            "Ingrese el segundo número: 3\n",
            "El número mayor es: 5\n"
          ]
        }
      ]
    },
    {
      "cell_type": "markdown",
      "source": [
        "6.- Programa en Python que lea 4 calificaciones de un alumno, calcular y desplegar el promedio acompañado de la leyenda APROBADO o REPROBADO"
      ],
      "metadata": {
        "id": "x9IH-zLSwwUI"
      }
    },
    {
      "cell_type": "code",
      "source": [
        "cali1 = float(input(\"Ingrese la primera calificación: \"))\n",
        "cali2 = float(input(\"Ingrese la segunda calificación: \"))\n",
        "cali3 = float(input(\"Ingrese la tercera calificación: \"))\n",
        "cali4 = float(input(\"Ingrese la cuarta calificación: \"))\n",
        "\n",
        "promedio = (cali1 + cali2 + cali3 + cali4) / 4\n",
        "if promedio >= 6.0:\n",
        "    print(\"El alumno está APROBADO con un promedio de\", promedio)\n",
        "else:\n",
        "    print(\"El alumno está REPROBADO con un promedio de\", promedio)"
      ],
      "metadata": {
        "colab": {
          "base_uri": "https://localhost:8080/"
        },
        "id": "kOdqoc5Qxael",
        "outputId": "dd33fd82-e9e6-4ea8-ea66-2ba69ae9ab8a"
      },
      "execution_count": 27,
      "outputs": [
        {
          "output_type": "stream",
          "name": "stdout",
          "text": [
            "Ingrese la primera calificación: 9\n",
            "Ingrese la segunda calificación: 9\n",
            "Ingrese la tercera calificación: 10\n",
            "Ingrese la cuarta calificación: 9\n",
            "El alumno está APROBADO con un promedio de 9.25\n"
          ]
        }
      ]
    },
    {
      "cell_type": "markdown",
      "source": [
        "7.- Programa en Python que a través de opciones (1.- HOMBRE 2.- MUJER ) preguntar al usuario cual es su sexo y desplegar la leyenda “HOMBRE ”, “MUJER”"
      ],
      "metadata": {
        "id": "ACn1rg2ayB7v"
      }
    },
    {
      "cell_type": "code",
      "source": [
        "sexo = int(input(\"Ingrese su sexo (1 para HOMBRE, 2 para MUJER): \"))\n",
        "if sexo == 1:\n",
        "    print(\"Usted es HOMBRE\")\n",
        "elif sexo == 2:\n",
        "    print(\"Usted es MUJER\")\n",
        "else:\n",
        "    print(\"Opción no válida, por favor seleccione 1 para HOMBRE o 2 para MUJER\")"
      ],
      "metadata": {
        "colab": {
          "base_uri": "https://localhost:8080/"
        },
        "id": "TCbWZ5cgyDGm",
        "outputId": "2422f19c-9dfb-49a6-948a-fea198921b3c"
      },
      "execution_count": 28,
      "outputs": [
        {
          "output_type": "stream",
          "name": "stdout",
          "text": [
            "Ingrese su sexo (1 para HOMBRE, 2 para MUJER): 1\n",
            "Usted es HOMBRE\n"
          ]
        }
      ]
    },
    {
      "cell_type": "markdown",
      "source": [
        "8.- Programa en Python que lea un número entero, y desplegar si el número es “PAR” o “IMPAR”"
      ],
      "metadata": {
        "id": "-GjFarZoyX-S"
      }
    },
    {
      "cell_type": "code",
      "source": [
        "numero = int(input(\"Ingrese un número entero: \"))\n",
        "if numero % 2 == 0:\n",
        "    print(numero, \"es un número PAR\")\n",
        "else:\n",
        "    print(numero, \"es un número IMPAR\")"
      ],
      "metadata": {
        "colab": {
          "base_uri": "https://localhost:8080/"
        },
        "id": "BZImyxSWybhd",
        "outputId": "7fc0f462-99d0-4f3b-ed0a-ad3c3ecaa36c"
      },
      "execution_count": 29,
      "outputs": [
        {
          "output_type": "stream",
          "name": "stdout",
          "text": [
            "Ingrese un número entero: 10\n",
            "10 es un número PAR\n"
          ]
        }
      ]
    }
  ]
}