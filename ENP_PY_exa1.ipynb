{
  "nbformat": 4,
  "nbformat_minor": 0,
  "metadata": {
    "colab": {
      "provenance": [],
      "authorship_tag": "ABX9TyOzGqcF79R72G5/q6fujte4",
      "include_colab_link": true
    },
    "kernelspec": {
      "name": "python3",
      "display_name": "Python 3"
    },
    "language_info": {
      "name": "python"
    }
  },
  "cells": [
    {
      "cell_type": "markdown",
      "metadata": {
        "id": "view-in-github",
        "colab_type": "text"
      },
      "source": [
        "<a href=\"https://colab.research.google.com/github/a375295/ProgramacionPYTHON/blob/main/ENP_PY_exa1.ipynb\" target=\"_parent\"><img src=\"https://colab.research.google.com/assets/colab-badge.svg\" alt=\"Open In Colab\"/></a>"
      ]
    },
    {
      "cell_type": "code",
      "execution_count": 3,
      "metadata": {
        "id": "oWgKAIalsOq7"
      },
      "outputs": [],
      "source": [
        "import random\n",
        "\n",
        "def generar():\n",
        "    numeros = random.sample(range(20, 101), 30)\n",
        "    return numeros"
      ]
    },
    {
      "cell_type": "code",
      "source": [
        "lista_aleatoria = generar()\n",
        "print(lista_aleatoria)"
      ],
      "metadata": {
        "colab": {
          "base_uri": "https://localhost:8080/"
        },
        "id": "05vH6D-ssx35",
        "outputId": "2cd625aa-91cb-4095-fae7-f165a686f676"
      },
      "execution_count": 4,
      "outputs": [
        {
          "output_type": "stream",
          "name": "stdout",
          "text": [
            "[59, 61, 71, 83, 37, 67, 64, 44, 23, 69, 42, 99, 41, 39, 77, 80, 30, 51, 90, 68, 65, 45, 33, 70, 72, 50, 46, 32, 48, 20]\n"
          ]
        }
      ]
    }
  ]
}