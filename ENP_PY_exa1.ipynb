{
  "nbformat": 4,
  "nbformat_minor": 0,
  "metadata": {
    "colab": {
      "provenance": [],
      "authorship_tag": "ABX9TyM62kfwNEEESqAdr34L7opr",
      "include_colab_link": true
    },
    "kernelspec": {
      "name": "python3",
      "display_name": "Python 3"
    },
    "language_info": {
      "name": "python"
    }
  },
  "cells": [
    {
      "cell_type": "markdown",
      "metadata": {
        "id": "view-in-github",
        "colab_type": "text"
      },
      "source": [
        "<a href=\"https://colab.research.google.com/github/a375295/ProgramacionPYTHON/blob/main/ENP_PY_exa1.ipynb\" target=\"_parent\"><img src=\"https://colab.research.google.com/assets/colab-badge.svg\" alt=\"Open In Colab\"/></a>"
      ]
    },
    {
      "cell_type": "code",
      "execution_count": 3,
      "metadata": {
        "id": "oWgKAIalsOq7"
      },
      "outputs": [],
      "source": [
        "import random\n",
        "\n",
        "def generar():\n",
        "    numeros = random.sample(range(20, 101), 30)\n",
        "    return numeros"
      ]
    },
    {
      "cell_type": "code",
      "source": [
        "lista_aleatoria = generar()\n",
        "print(lista_aleatoria)"
      ],
      "metadata": {
        "colab": {
          "base_uri": "https://localhost:8080/"
        },
        "id": "05vH6D-ssx35",
        "outputId": "2cd625aa-91cb-4095-fae7-f165a686f676"
      },
      "execution_count": 4,
      "outputs": [
        {
          "output_type": "stream",
          "name": "stdout",
          "text": [
            "[59, 61, 71, 83, 37, 67, 64, 44, 23, 69, 42, 99, 41, 39, 77, 80, 30, 51, 90, 68, 65, 45, 33, 70, 72, 50, 46, 32, 48, 20]\n"
          ]
        }
      ]
    },
    {
      "cell_type": "code",
      "source": [
        "def factorial(numero):\n",
        "    if numero == 0:\n",
        "        return 1\n",
        "    else:\n",
        "        return numero * factorial(numero - 1)"
      ],
      "metadata": {
        "id": "hHXShUUAtmq1"
      },
      "execution_count": 5,
      "outputs": []
    },
    {
      "cell_type": "code",
      "source": [
        "factorial(4)"
      ],
      "metadata": {
        "colab": {
          "base_uri": "https://localhost:8080/"
        },
        "id": "oQmMZUF1tnjS",
        "outputId": "af692041-ccfe-4208-92a0-920b754df857"
      },
      "execution_count": 9,
      "outputs": [
        {
          "output_type": "execute_result",
          "data": {
            "text/plain": [
              "24"
            ]
          },
          "metadata": {},
          "execution_count": 9
        }
      ]
    },
    {
      "cell_type": "code",
      "source": [
        " # funcion que retorne un numero dentro de un rango dado, validar el numero que cumpla el requisito del rango, \n",
        " #la funcion debera validar que el programa no marque error por introducir informacion erronea (usar try except)\n",
        "\n",
        " def validar_num(minimo, maximo):\n",
        "    while True:\n",
        "        try:\n",
        "            numero = int(input(f\"Ingrese un número entre {minimo} y {maximo}: \"))\n",
        "            if minimo <= numero <= maximo:\n",
        "                return numero\n",
        "            else:\n",
        "                print(\"El número está fuera del rango, Ingrese el numero de nuevo\")\n",
        "        except ValueError:\n",
        "            print(\"Error: Intente nuevamente con un número válido\")"
      ],
      "metadata": {
        "id": "D6QHoYTKuupS"
      },
      "execution_count": 10,
      "outputs": []
    },
    {
      "cell_type": "code",
      "source": [
        "validar_num(10, 50)"
      ],
      "metadata": {
        "colab": {
          "base_uri": "https://localhost:8080/"
        },
        "id": "68nivqNXvGoj",
        "outputId": "b04a7dff-6649-4b32-e3d1-72b3f48e9c18"
      },
      "execution_count": 13,
      "outputs": [
        {
          "name": "stdout",
          "output_type": "stream",
          "text": [
            "Ingrese un número entre 10 y 50: 9\n",
            "El número está fuera del rango especificado. Intente nuevamente.\n",
            "Ingrese un número entre 10 y 50: 30\n"
          ]
        },
        {
          "output_type": "execute_result",
          "data": {
            "text/plain": [
              "30"
            ]
          },
          "metadata": {},
          "execution_count": 13
        }
      ]
    }
  ]
}