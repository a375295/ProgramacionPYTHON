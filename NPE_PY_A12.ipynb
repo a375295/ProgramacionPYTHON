{
  "cells": [
    {
      "cell_type": "markdown",
      "metadata": {
        "id": "view-in-github",
        "colab_type": "text"
      },
      "source": [
        "<a href=\"https://colab.research.google.com/github/a375295/ProgramacionPYTHON/blob/main/NPE_PY_A12.ipynb\" target=\"_parent\"><img src=\"https://colab.research.google.com/assets/colab-badge.svg\" alt=\"Open In Colab\"/></a>"
      ]
    },
    {
      "cell_type": "code",
      "execution_count": 34,
      "metadata": {
        "id": "bzYVM8cHVz4n"
      },
      "outputs": [],
      "source": [
        "import random\n",
        "import time\n",
        "import pandas as pd\n",
        "from IPython.display import clear_output\n",
        "import json\n",
        "from collections import Counter\n",
        "import os\n",
        "import re\n",
        "import markdown"
      ]
    },
    {
      "cell_type": "code",
      "execution_count": 2,
      "metadata": {
        "colab": {
          "base_uri": "https://localhost:8080/"
        },
        "id": "I1IMWxPAW6gz",
        "outputId": "0f12eeac-6a45-43bc-d4e2-3f80b16d745c"
      },
      "outputs": [
        {
          "output_type": "stream",
          "name": "stdout",
          "text": [
            "Mounted at /content/drive\n"
          ]
        }
      ],
      "source": [
        "from google.colab import drive\n",
        "drive.mount('/content/drive')"
      ]
    },
    {
      "cell_type": "code",
      "execution_count": 3,
      "metadata": {
        "id": "Kq5Qc5VgYLnm"
      },
      "outputs": [],
      "source": [
        "ruta = \"/content/drive/MyDrive/Python_Colab_Notebooks/ACTIVIDAD12\""
      ]
    },
    {
      "cell_type": "code",
      "execution_count": 4,
      "metadata": {
        "id": "VA6buExwYRWp"
      },
      "outputs": [],
      "source": [
        "import sys\n",
        "sys.path.append(ruta)"
      ]
    },
    {
      "cell_type": "code",
      "execution_count": 5,
      "metadata": {
        "id": "Dg92bycAYURZ"
      },
      "outputs": [],
      "source": [
        "import dicc"
      ]
    },
    {
      "cell_type": "code",
      "execution_count": 6,
      "metadata": {
        "id": "B2kkV0pq6wOu"
      },
      "outputs": [],
      "source": [
        "def letrero():\n",
        "    clear_output()\n",
        "    print(\"MENU:\")\n",
        "    print(\"1.-AGREGAR AUTOMATICO 10\")\n",
        "    print(\"2.-ELIMINAR {ID}\")\n",
        "    print(\"3.-IMPRIMIR LISTA\")\n",
        "    print(\"4.-BUSCAR {ID}\")\n",
        "    print(\"5.-BUSCAR TODAS LAS COINCIDENCIAS POR APELLIDO PATERNO\")\n",
        "    print(\"6.-ORDENAR {ID}\")\n",
        "    print(\"7.-GENERAR ARCHIVO {ID}\")\n",
        "    print(\"8.-CARGAR ARCHIVO {ID}\")\n",
        "    print(\"9.-IMPRIMIR ARCHIVO {ID}\")\n",
        "    print(\"10.-BORRAR TODA LA LISTA {ID}\")\n",
        "    print(\"0.-SALIR\")"
      ]
    },
    {
      "cell_type": "code",
      "execution_count": 7,
      "metadata": {
        "id": "VGG5IZqFBqqR"
      },
      "outputs": [],
      "source": [
        "def imp_lista(lista_dic):\n",
        "    clear_output()\n",
        "    salida = pd.DataFrame(lista_dic)\n",
        "    print(salida)\n",
        "    time.sleep(3)"
      ]
    },
    {
      "cell_type": "code",
      "execution_count": 8,
      "metadata": {
        "id": "0b9E414uT9Rb"
      },
      "outputs": [],
      "source": [
        "def buscar(lista, val, key):\n",
        "    lista_id = [d[key] for d in lista]\n",
        "    try:\n",
        "        indice = lista_id.index(val)\n",
        "        return indice\n",
        "    except:\n",
        "        return -1"
      ]
    },
    {
      "cell_type": "code",
      "execution_count": 9,
      "metadata": {
        "id": "evX9F2GgCx_-"
      },
      "outputs": [],
      "source": [
        "def eliminar_id(lista):\n",
        "    while True:\n",
        "        try:\n",
        "            val=int(input(\"QUE VALOR BUSCAS: \"))\n",
        "            indice = buscar(lista, val, key= \"Id\")\n",
        "            if indice != -1 :\n",
        "                while True:\n",
        "                    seg = str(input(\"ESTAS SEGURO DE ELIMINAR ESTE ID? \")).lower()\n",
        "                    if seg == 'si':\n",
        "                        print(json.dumps(lista[indice], sort_keys=False, indent=2))\n",
        "                        del lista[indice]\n",
        "                        print(\" DATOS BORRADOS DE LA LISTA\")\n",
        "                        time.sleep(3)\n",
        "                        return\n",
        "                    elif seg == 'no':\n",
        "                        return\n",
        "                    else:\n",
        "                        print(\"SOLO ESCRIBE SI O NO\")\n",
        "            else:\n",
        "                print(\"NO EXISTE EL ID\")\n",
        "                time.sleep(2)\n",
        "                return\n",
        "        except ValueError:\n",
        "            print(\"ERROR: SOLO ACEPTA VALORES NUMERICOS\")\n",
        "            time.sleep(1)"
      ]
    },
    {
      "cell_type": "code",
      "execution_count": 32,
      "metadata": {
        "id": "W7C0sh6-V-qC"
      },
      "outputs": [],
      "source": [
        "def buscar_valor(lista):\n",
        "    while True:\n",
        "        try:\n",
        "            val = int(input(\"QUE VALOR BUSCAS: \"))\n",
        "            indice = buscar(lista, val, key=\"Id\")\n",
        "            if indice != -1 :\n",
        "                print(json.dumps(lista[indice], sort_keys=False, indent = 2))\n",
        "                return\n",
        "            else:\n",
        "                print(\"NO EXISTE EL ID\")\n",
        "                time.sleep(2)\n",
        "                return\n",
        "        except ValueError:\n",
        "            print(\"ERROR: SOLO ACEPTA VALORES NUMERICOS\")\n",
        "            time.sleep(1)\n",
        "            continue"
      ]
    },
    {
      "cell_type": "code",
      "execution_count": 11,
      "metadata": {
        "id": "2XHZnqP9AxQt"
      },
      "outputs": [],
      "source": [
        "def validar_archivo(opc, data, lista):\n",
        "    clear_output()\n",
        "    while True:\n",
        "        if opc == \"xlsx\":\n",
        "            data.to_excel('/content/drive/MyDrive/Python_Colab_Notebooks/ACTIVIDAD12/archivo.xlsx', index = False)\n",
        "            print(\"ARCHIVO CREADO CORRECTAMENTE\")\n",
        "            time.sleep(2)\n",
        "            break\n",
        "        elif opc == \"csv\":\n",
        "            data.to_csv('/content/drive/MyDrive/Python_Colab_Notebooks/ACTIVIDAD12/archivo.csv', index = False)\n",
        "            print(\"ARCHIVO CREADO CORRECTAMENTE\")\n",
        "            time.sleep(2)\n",
        "            break\n",
        "        elif opc == \"md\":\n",
        "            data.to_markdown('/content/drive/MyDrive/Python_Colab_Notebooks/ACTIVIDAD12/archivo.md', index = False)\n",
        "            print(\"ARCHIVO CREADO CORRECTAMENTE\")\n",
        "            time.sleep(2)\n",
        "            break\n",
        "        elif opc == \"txt\":\n",
        "            path = '/content/drive/MyDrive/Python_Colab_Notebooks/ACTIVIDAD12/archivo.txt'\n",
        "            with open(path, 'w') as archivo:\n",
        "                    for item in lista:\n",
        "                        archivo.write('%s\\n' % item)\n",
        "            print(\"ARCHIVO CREADO CORRECTAMENTE\")\n",
        "            time.sleep(2)\n",
        "            break\n",
        "        else:\n",
        "            break"
      ]
    },
    {
      "cell_type": "code",
      "execution_count": 12,
      "metadata": {
        "id": "wbSn1zrNeLYU"
      },
      "outputs": [],
      "source": [
        "def generar_arc(lista):\n",
        "    val = escoger_arch()\n",
        "    data = pd.DataFrame(lista)\n",
        "    validar_archivo(val, data, lista)"
      ]
    },
    {
      "cell_type": "code",
      "execution_count": 13,
      "metadata": {
        "id": "RRrfFIntg9Iu"
      },
      "outputs": [],
      "source": [
        "def escoger_arch():\n",
        "    extensiones_acp = ['xlsx', 'txt', 'csv', 'md']\n",
        "    while True:\n",
        "        val = str(input(\"QUE TIPO DE ARCHIVO (xlsx, txt, csv, md): \")).lower()\n",
        "        if val.endswith(tuple(extensiones_acp)):\n",
        "            return val\n",
        "        else:\n",
        "            print(\"ERROR: ESCRIBE SOLAMENTE LA EXTENSION DEL TIPO DE ARCHIVO QUE DESEAS\")\n",
        "            time.sleep(2)\n",
        "            continue"
      ]
    },
    {
      "cell_type": "code",
      "execution_count": 14,
      "metadata": {
        "id": "8FnJu8Dkp_Q7"
      },
      "outputs": [],
      "source": [
        "def buscar_coinc(lista):\n",
        "    val = input(\"INGRESE EL APELLIDO: \")\n",
        "    #while not val.isalpha():\n",
        "    #    val = input(\"INTRODUZCA UN VALOR VALIDO QUE CONTENGA SOLO LETRAS\")\n",
        "    #    continue\n",
        "    filtro = filter(lambda x: x[\"Ap.Paterno\"] == val, lista)\n",
        "    lista_coincidencia = list(filtro)\n",
        "    if len(lista_coincidencia) == 0:\n",
        "        print(\"NO HAY REGISTROS CON ESE APELLIDO\")\n",
        "    else:\n",
        "        print(\"COINCIDENCIAS ENCONTRADAS: \")\n",
        "        print(pd.DataFrame(lista_coincidencia))\n",
        "        time.sleep(4)"
      ]
    },
    {
      "cell_type": "code",
      "execution_count": 40,
      "metadata": {
        "id": "dravgwrbyvrG"
      },
      "outputs": [],
      "source": [
        "def cargar_arc():\n",
        "    val = escoger_arch()\n",
        "    if val == \"xlsx\":\n",
        "        path = \"/content/drive/MyDrive/Python_Colab_Notebooks/ACTIVIDAD12/archivo.xlsx\"\n",
        "        nuevo_df = pd.read_excel(path)\n",
        "        return nuevo_df\n",
        "    elif val == \"csv\":\n",
        "        path = \"/content/drive/MyDrive/Python_Colab_Notebooks/ACTIVIDAD12/archivo.csv\"\n",
        "        nuevo_df = pd.read_csv(path)\n",
        "        return nuevo_df\n",
        "    elif val == \"md\":\n",
        "        path = \"/content/drive/MyDrive/Python_Colab_Notebooks/ACTIVIDAD12/archivo.md\"\n",
        "        with open(path, 'r') as file:\n",
        "            contenido_md = file.read()\n",
        "        df = markdown.markdown(contenido_md)\n",
        "        return df\n",
        "    elif val == \"txt\":\n",
        "        texto = \"\"\n",
        "        path = \"/content/drive/MyDrive/Python_Colab_Notebooks/ACTIVIDAD12/archivo.txt\"\n",
        "        f = open(path)\n",
        "        print(f.read())\n"
      ]
    },
    {
      "cell_type": "code",
      "source": [
        "def ejecutar_opcion(opcion, listadatos):\n",
        "    claves = [\"Id\",\"Ap.Paterno\",\"Ap.Materno\",\"Nombre\",\"Puesto\",\"Sexo\"]\n",
        "    ejecutando = True\n",
        "    if opcion == 1:\n",
        "        for i in range(10):\n",
        "            listadatos.append(dict(zip(claves, dicc.registro())))\n",
        "        print(\"Operacion realizada correctamente\")\n",
        "        time.sleep(2)\n",
        "    elif opcion == 2:\n",
        "        eliminar_id(listadatos)\n",
        "    elif opcion == 3:\n",
        "        if not listadatos:\n",
        "            print(\"LA LISTA ESTA VACIA\")\n",
        "            time.sleep(2)\n",
        "            return\n",
        "        imp_lista(listadatos)\n",
        "    elif opcion == 4:\n",
        "        buscar_valor(listadatos)\n",
        "    elif opcion == 5:\n",
        "        if not listadatos:\n",
        "            print(\"LISTA ESTA VACIA\")\n",
        "        else:\n",
        "            buscar_coinc(listadatos)\n",
        "            time.sleep(2)\n",
        "    elif opcion == 6:\n",
        "        lista_ord = sorted(listadatos, key = lambda x: x[\"Id\"])\n",
        "        print(\"LISTA ORDENADA\")\n",
        "        imp_lista(lista_ord)\n",
        "        time.sleep(2)\n",
        "    elif opcion == 7:\n",
        "        return generar_arc(listadatos)\n",
        "    elif opcion == 8:\n",
        "        ejem()\n",
        "        time.sleep(4)\n",
        "    elif opcion == 9:\n",
        "        nueva_lista = cargar_arc()\n",
        "        print(nueva_lista)\n",
        "        time.sleep(5)\n",
        "    elif opcion == 10:\n",
        "        listadatos.clear()\n",
        "        print(\"lista borrada\")\n",
        "        time.sleep(2)\n",
        "    elif opcion == 0:\n",
        "        print(\"PROGRAMA FINALIZADO\")"
      ],
      "metadata": {
        "id": "InXhUxmwsw-K"
      },
      "execution_count": 54,
      "outputs": []
    },
    {
      "cell_type": "code",
      "source": [
        "def menu():\n",
        "    listadatos= []\n",
        "    while True:\n",
        "        letrero()\n",
        "        op = input(\"ESCOGE UNA OPCION: \") \n",
        "        if op.isdigit():\n",
        "            op = int(op)\n",
        "            if 0 <= op <= 10:\n",
        "                ejecutar_opcion(op, listadatos)\n",
        "                if op == 0:\n",
        "                    break\n",
        "            else:\n",
        "                print(\"OPCIÓN INVÁLIDA\")\n",
        "                time.sleep(2)\n",
        "        else:\n",
        "            print(\"DEBE INGRESAR UN NÚMERO\")\n",
        "            time.sleep(2)"
      ],
      "metadata": {
        "id": "pO1Jbs_2s2_c"
      },
      "execution_count": 46,
      "outputs": []
    },
    {
      "cell_type": "code",
      "execution_count": 58,
      "metadata": {
        "id": "4K78mCHs_GDj"
      },
      "outputs": [],
      "source": [
        "menu()"
      ]
    }
  ],
  "metadata": {
    "colab": {
      "provenance": [],
      "authorship_tag": "ABX9TyPksN7tuPpn8jJswGgJgYUK",
      "include_colab_link": true
    },
    "kernelspec": {
      "display_name": "Python 3",
      "name": "python3"
    },
    "language_info": {
      "name": "python"
    }
  },
  "nbformat": 4,
  "nbformat_minor": 0
}