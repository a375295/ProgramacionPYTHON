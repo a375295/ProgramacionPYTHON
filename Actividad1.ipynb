{
  "nbformat": 4,
  "nbformat_minor": 0,
  "metadata": {
    "colab": {
      "provenance": []
    },
    "kernelspec": {
      "name": "python3",
      "display_name": "Python 3"
    },
    "language_info": {
      "name": "python"
    }
  },
  "cells": [
    {
      "cell_type": "markdown",
      "source": [
        "### SALIDA POR PANTALLA: la función print()\n",
        "\n",
        "En Informática, la \"salida\" de un programa son los datos que el programa proporciona al exterior. Aunque en los inicios de la informática la salida más habitual era una impresora, hace muchos años que el dispositivo de salida más habitual es la pantalla del ordenador.**texto en negrita**"
      ],
      "metadata": {
        "id": "ETkDNtt1xBO1"
      }
    },
    {
      "cell_type": "markdown",
      "source": [
        "### **LA FUNCION print**\n",
        "En los programas, para que python nos muestre texto o variables hay que utilizar la función print()."
      ],
      "metadata": {
        "id": "TsvG_MN7ynYi"
      }
    },
    {
      "cell_type": "markdown",
      "source": [
        "**print** es la funcion basica para dar una salida por pantalla en PYTHON, la sintaxis basica indica que las constantes de cadena pueden ir entre comillas dobles o comillas simples. "
      ],
      "metadata": {
        "id": "9AQ3fOry0HoS"
      }
    },
    {
      "cell_type": "code",
      "execution_count": null,
      "metadata": {
        "id": "BpcSRfaVwuvn",
        "colab": {
          "base_uri": "https://localhost:8080/"
        },
        "outputId": "85a74367-26bb-4e18-d899-884bf943fdf2"
      },
      "outputs": [
        {
          "output_type": "stream",
          "name": "stdout",
          "text": [
            "Hola  mundo cruel y despiadado\n",
            "Hola  mundo cruel y despiadado\n",
            "Hola\n"
          ]
        }
      ],
      "source": [
        "# @title ESTE ES EL HOLA MUNDO \n",
        "print(\"Hola  mundo cruel y despiadado\")\n",
        "print('Hola  mundo cruel y despiadado') \n",
        "print (\"Hola\")"
      ]
    },
    {
      "cell_type": "code",
      "source": [
        "print('Hola')"
      ],
      "metadata": {
        "id": "JiLMwbC1y8FV",
        "colab": {
          "base_uri": "https://localhost:8080/"
        },
        "outputId": "70f1cb2a-3293-4a3b-d6cd-dea4604baa6a"
      },
      "execution_count": null,
      "outputs": [
        {
          "output_type": "stream",
          "name": "stdout",
          "text": [
            "Hola\n"
          ]
        }
      ]
    },
    {
      "cell_type": "markdown",
      "source": [
        "**Nota:** Nosotros siempre usaremos comillas dobles.  para mantener un estilo de programacion uniforme"
      ],
      "metadata": {
        "id": "k_Qt821OzVsO"
      }
    },
    {
      "cell_type": "markdown",
      "source": [
        "**La función print() admite varios argumentos**\n",
        "En el programa, los argumentos deben separarse por comas. Los argumentos se muestran en el mismo orden y en la misma línea, separados por espacios:"
      ],
      "metadata": {
        "id": "Z4q3xSc35e7j"
      }
    },
    {
      "cell_type": "code",
      "source": [
        "print(\"Hola \",\"Adiós\")"
      ],
      "metadata": {
        "id": "OqVN4-ECzBTn",
        "colab": {
          "base_uri": "https://localhost:8080/"
        },
        "outputId": "c83c7e07-1231-4672-a316-d31c57acf771"
      },
      "execution_count": null,
      "outputs": [
        {
          "output_type": "stream",
          "name": "stdout",
          "text": [
            "Hola Adiós\n"
          ]
        }
      ]
    },
    {
      "cell_type": "markdown",
      "source": [
        "**Cuando se trata de dos cadenas seguidas, se puede no escribir comas entre ellas, pero las cadenas se escribirán seguidas, sin espacio en blanco entre ellas:**"
      ],
      "metadata": {
        "id": "VUdungha5U52"
      }
    },
    {
      "cell_type": "code",
      "source": [
        "msge = \"ADIOS\"\n",
        "print(\"Hola\", msge)\n",
        "print (\"HOLA \\nADIOS\")"
      ],
      "metadata": {
        "id": "rsmUXXeA33yx",
        "colab": {
          "base_uri": "https://localhost:8080/"
        },
        "outputId": "5b173e82-6ceb-43b9-81ca-4c6ca967e8f1"
      },
      "execution_count": null,
      "outputs": [
        {
          "output_type": "stream",
          "name": "stdout",
          "text": [
            "Hola ADIOS\n",
            "HOLA \n",
            "ADIOS\n"
          ]
        }
      ]
    },
    {
      "cell_type": "markdown",
      "source": [
        "**Al final de cada print(), Python añade automáticamente un salto de línea:**"
      ],
      "metadata": {
        "id": "qWDbtDsE5v0o"
      }
    },
    {
      "cell_type": "code",
      "source": [
        "print(\"Hola\")\n",
        "print(\"Mundo\")"
      ],
      "metadata": {
        "id": "sYNBBm1O3-gW",
        "colab": {
          "base_uri": "https://localhost:8080/"
        },
        "outputId": "0818d51c-cc25-47cd-aaa9-c5523adba88f"
      },
      "execution_count": null,
      "outputs": [
        {
          "output_type": "stream",
          "name": "stdout",
          "text": [
            "Hola\n",
            "Mundo\n"
          ]
        }
      ]
    },
    {
      "cell_type": "markdown",
      "source": [
        "**Para generar una línea en blanco, se puede escribir una orden print() sin argumentos.**"
      ],
      "metadata": {
        "id": "LXNwuCh8529w"
      }
    },
    {
      "cell_type": "code",
      "source": [
        "print(\"Hola\\n\")\n",
        "print(\"Mundo\")"
      ],
      "metadata": {
        "id": "VrAZfQkx4JSG",
        "colab": {
          "base_uri": "https://localhost:8080/"
        },
        "outputId": "c5e0b4a4-14c3-4661-c8f6-e4fa7d58843e"
      },
      "execution_count": null,
      "outputs": [
        {
          "output_type": "stream",
          "name": "stdout",
          "text": [
            "Hola\n",
            "\n",
            "Mundo\n"
          ]
        }
      ]
    },
    {
      "cell_type": "markdown",
      "source": [
        "**Si se quiere que Python no añada un salto de línea al final de un print(), se debe añadir al final el argumento end=\"\"**: "
      ],
      "metadata": {
        "id": "QqnBpahF-Ave"
      }
    },
    {
      "cell_type": "code",
      "source": [
        "print(\"Hola\", end=\"\")\n",
        "print(\"Adiós\")"
      ],
      "metadata": {
        "colab": {
          "base_uri": "https://localhost:8080/"
        },
        "id": "O-PgY1y24SHB",
        "outputId": "96706f48-b7be-4fc7-b260-c10b52ce43eb"
      },
      "execution_count": null,
      "outputs": [
        {
          "output_type": "stream",
          "name": "stdout",
          "text": [
            "HolaAdiós\n"
          ]
        }
      ]
    },
    {
      "cell_type": "markdown",
      "source": [
        "**En el ejemplo anterior, las dos cadenas se muestran pegadas. Si se quieren separar los argumentos en la salida, hay que incluir los espacios deseados (bien en la cadena, bien en el argumento end):**"
      ],
      "metadata": {
        "id": "odY1GFLt-F8X"
      }
    },
    {
      "cell_type": "code",
      "source": [
        "print(\"Hola \", end=\"\")\n",
        "print(\"Adiós\")"
      ],
      "metadata": {
        "colab": {
          "base_uri": "https://localhost:8080/"
        },
        "id": "08mmwu0u-PYM",
        "outputId": "9e8ab577-927e-470c-c786-a6ad9c4ab43e"
      },
      "execution_count": null,
      "outputs": [
        {
          "output_type": "stream",
          "name": "stdout",
          "text": [
            "Hola Adiós\n"
          ]
        }
      ]
    },
    {
      "cell_type": "code",
      "source": [
        "print(\"Hola\", end=\" \")\n",
        "print(\"Adiós\")"
      ],
      "metadata": {
        "id": "MRGuEN19-Tk8",
        "colab": {
          "base_uri": "https://localhost:8080/"
        },
        "outputId": "ef79ddd7-cfdd-4059-a180-b6099f14607c"
      },
      "execution_count": null,
      "outputs": [
        {
          "output_type": "stream",
          "name": "stdout",
          "text": [
            "Hola Adiós\n"
          ]
        }
      ]
    },
    {
      "cell_type": "markdown",
      "source": [
        "**El valor del parámetro end puede ser una cadena f:**"
      ],
      "metadata": {
        "id": "K7bNBS_i-djA"
      }
    },
    {
      "cell_type": "code",
      "source": [
        "texto = \"Pedrito Hermoso\"\n",
        "print(\"Hola \", end=f\"{texto}\")\n",
        "print(\", y Adiós\")"
      ],
      "metadata": {
        "id": "wp_rUIh_-fEC",
        "colab": {
          "base_uri": "https://localhost:8080/"
        },
        "outputId": "30bcc75e-e760-4c71-e221-dce88eebe1ce"
      },
      "execution_count": null,
      "outputs": [
        {
          "output_type": "stream",
          "name": "stdout",
          "text": [
            "Hola Pedrito Hermoso, y Adiós\n"
          ]
        }
      ]
    },
    {
      "cell_type": "markdown",
      "source": [
        "LAS COMILLAS..."
      ],
      "metadata": {
        "id": "6DZ2E5sbw6Vu"
      }
    },
    {
      "cell_type": "code",
      "source": [
        "print(\"Un tipo le dice a otro: \"¿Cómo estás?\"\")"
      ],
      "metadata": {
        "id": "uFNADlChxD2c",
        "colab": {
          "base_uri": "https://localhost:8080/",
          "height": 131
        },
        "outputId": "b7705c35-a751-44bb-d6a7-07861655ba38"
      },
      "execution_count": null,
      "outputs": [
        {
          "output_type": "error",
          "ename": "SyntaxError",
          "evalue": "ignored",
          "traceback": [
            "\u001b[0;36m  File \u001b[0;32m\"<ipython-input-27-6df517bfc093>\"\u001b[0;36m, line \u001b[0;32m1\u001b[0m\n\u001b[0;31m    print(\"Un tipo le dice a otro: \"¿Cómo estás?\"\")\u001b[0m\n\u001b[0m                                        ^\u001b[0m\n\u001b[0;31mSyntaxError\u001b[0m\u001b[0;31m:\u001b[0m invalid character in identifier\n"
          ]
        }
      ]
    },
    {
      "cell_type": "code",
      "source": [
        "print('Un tipo le dice a otro: '¿Cómo estás?'')"
      ],
      "metadata": {
        "id": "-2tb-VpGAVvx",
        "colab": {
          "base_uri": "https://localhost:8080/",
          "height": 131
        },
        "outputId": "38a45cbc-f663-47d3-bac0-d59dca255ad1"
      },
      "execution_count": null,
      "outputs": [
        {
          "output_type": "error",
          "ename": "SyntaxError",
          "evalue": "ignored",
          "traceback": [
            "\u001b[0;36m  File \u001b[0;32m\"<ipython-input-28-4395b742426e>\"\u001b[0;36m, line \u001b[0;32m1\u001b[0m\n\u001b[0;31m    print('Un tipo le dice a otro: '¿Cómo estás?'')\u001b[0m\n\u001b[0m                                        ^\u001b[0m\n\u001b[0;31mSyntaxError\u001b[0m\u001b[0;31m:\u001b[0m invalid character in identifier\n"
          ]
        }
      ]
    },
    {
      "cell_type": "code",
      "source": [
        "print(\"Un tipo le dice a otro: \\\"¿Cómo estás?\\\"\")\n",
        "print('Y el otro le contesta: \\'¡Pues anda que tú!\\'')"
      ],
      "metadata": {
        "id": "tjhzy5hQAdW5",
        "outputId": "b68a2a96-61d3-4f74-90b6-3b87f3124172",
        "colab": {
          "base_uri": "https://localhost:8080/"
        }
      },
      "execution_count": null,
      "outputs": [
        {
          "output_type": "stream",
          "name": "stdout",
          "text": [
            "Un tipo le dice a otro: \"¿Cómo estás?\"\n",
            "Y el otro le contesta: '¡Pues anda que tú!'\n"
          ]
        }
      ]
    },
    {
      "cell_type": "code",
      "source": [
        "print(\"Un tipo le dice a otro: '¿Cómo estás?'\")\n",
        "print('Y el otro le contesta: \"¡Pues anda que tú!\"')"
      ],
      "metadata": {
        "id": "FVWKmvsNAdC1",
        "colab": {
          "base_uri": "https://localhost:8080/"
        },
        "outputId": "33881ac8-07dc-4840-b011-9db39bd4a6cf"
      },
      "execution_count": null,
      "outputs": [
        {
          "output_type": "stream",
          "name": "stdout",
          "text": [
            "Un tipo le dice a otro: '¿Cómo estás?'\n",
            "Y el otro le contesta: \"¡Pues anda que tú!\"\n"
          ]
        }
      ]
    },
    {
      "cell_type": "markdown",
      "source": [
        "**La función print() permite incluir variables o expresiones como argumento, lo que nos permite combinar texto y variables:**"
      ],
      "metadata": {
        "id": "4UmP5o9vArrh"
      }
    },
    {
      "cell_type": "code",
      "source": [
        "nombre = \"pedrito\"\n",
        "edad = 28\n",
        "print(\"Me llamo\", nombre, \"y tengo\", edad, \"años.\")\n"
      ],
      "metadata": {
        "id": "FoA91WWkAuiu",
        "colab": {
          "base_uri": "https://localhost:8080/"
        },
        "outputId": "da1a4fba-96bb-4245-ed20-6c2a876096ca"
      },
      "execution_count": null,
      "outputs": [
        {
          "output_type": "stream",
          "name": "stdout",
          "text": [
            "Me llamo pedrito y tengo 28 años.\n"
          ]
        }
      ]
    },
    {
      "cell_type": "code",
      "source": [
        "num1=6\n",
        "num2=4\n",
        "suma= num1+num2\n",
        "print(num1,\" + \",num2,\" = \",suma)"
      ],
      "metadata": {
        "id": "DFwjSUr1XgLF",
        "colab": {
          "base_uri": "https://localhost:8080/"
        },
        "outputId": "61418b76-dcec-4f77-ca0c-df30e5995039"
      },
      "execution_count": null,
      "outputs": [
        {
          "output_type": "stream",
          "name": "stdout",
          "text": [
            "6  +  4  =  10\n"
          ]
        }
      ]
    },
    {
      "cell_type": "code",
      "source": [
        "semanas = 3\n",
        "print(\"En\", semanas , \"semanas hay\", 7 * semanas, \"días.\")"
      ],
      "metadata": {
        "id": "JoHsw_jpAvLi",
        "outputId": "94c88d4c-a264-4797-dba8-ac3ba29510d0",
        "colab": {
          "base_uri": "https://localhost:8080/"
        }
      },
      "execution_count": null,
      "outputs": [
        {
          "output_type": "stream",
          "name": "stdout",
          "text": [
            "En 3 semanas hay 21 días.\n"
          ]
        }
      ]
    },
    {
      "cell_type": "markdown",
      "source": [
        "**La función print() muestra los argumentos separados por espacios, lo que a veces no es conveniente. En el ejemplo siguiente el signo de exclamación se muestra separado de la palabra.**"
      ],
      "metadata": {
        "id": "To7lyNBJBSI4"
      }
    },
    {
      "cell_type": "code",
      "source": [
        "nombre = \"Pedrito\"\n",
        "print(\"¡Hola,\", nombre, \"!\")"
      ],
      "metadata": {
        "id": "qu6s3_ukBTdo",
        "outputId": "4e808dc0-8006-45ea-9693-735bda5fd69a",
        "colab": {
          "base_uri": "https://localhost:8080/"
        }
      },
      "execution_count": null,
      "outputs": [
        {
          "output_type": "stream",
          "name": "stdout",
          "text": [
            "¡Hola, Pedrito !\n"
          ]
        }
      ]
    },
    {
      "cell_type": "markdown",
      "source": [
        "OBSOLETO...."
      ],
      "metadata": {
        "id": "U-k-wBIIBzRL"
      }
    },
    {
      "cell_type": "markdown",
      "source": [
        "**Cadenas \"f\"**"
      ],
      "metadata": {
        "id": "ZUezuBKMCAkr"
      }
    },
    {
      "cell_type": "code",
      "source": [
        "nombre = \"Pedrito\"\n",
        "print(f\"¡Hola, {nombre}!\")"
      ],
      "metadata": {
        "id": "wFWsrJXZBY7g",
        "colab": {
          "base_uri": "https://localhost:8080/"
        },
        "outputId": "e6b62d04-b4dd-44e0-8e80-0b6dec3a8c88"
      },
      "execution_count": null,
      "outputs": [
        {
          "output_type": "stream",
          "name": "stdout",
          "text": [
            "¡Hola, Pedrito!\n"
          ]
        }
      ]
    },
    {
      "cell_type": "code",
      "source": [
        "nombre = \"Pedrito\"\n",
        "edad = 28\n",
        "print(f\"Me llamo {nombre} y tengo {edad} años.\")"
      ],
      "metadata": {
        "id": "UXFiFr3VBYte",
        "colab": {
          "base_uri": "https://localhost:8080/"
        },
        "outputId": "44319acb-a3d9-4a84-e9ff-f622adb80787"
      },
      "execution_count": null,
      "outputs": [
        {
          "output_type": "stream",
          "name": "stdout",
          "text": [
            "Me llamo Pedrito y tengo 28 años.\n"
          ]
        }
      ]
    },
    {
      "cell_type": "code",
      "source": [
        "semanas = 4\n",
        "print(\"En {semanas} semanas hay {7 * semanas} días.\")"
      ],
      "metadata": {
        "id": "LSidTx7FCTAV",
        "colab": {
          "base_uri": "https://localhost:8080/"
        },
        "outputId": "0de1a782-f3e7-4231-84e3-23fe2af32d75"
      },
      "execution_count": null,
      "outputs": [
        {
          "output_type": "stream",
          "name": "stdout",
          "text": [
            "En {semanas} semanas hay {7 * semanas} días.\n"
          ]
        }
      ]
    },
    {
      "cell_type": "code",
      "source": [
        "fecha = 2020\n",
        "print(\"¡Feliz\", fecha, \"!\")\n",
        "print(f\"¡Feliz {fecha}!\")\n",
        "print(f\"¡Feliz {fecha}!\")"
      ],
      "metadata": {
        "id": "d1C6S8ZCCS0e",
        "colab": {
          "base_uri": "https://localhost:8080/"
        },
        "outputId": "235e3fcc-567f-4e8c-bd3d-f36bfae41c98"
      },
      "execution_count": null,
      "outputs": [
        {
          "output_type": "stream",
          "name": "stdout",
          "text": [
            "¡Feliz 2020 !\n",
            "¡Feliz 2020!\n",
            "¡Feliz 2020!\n"
          ]
        }
      ]
    },
    {
      "cell_type": "markdown",
      "source": [
        "**Si no se escribe la letra f antes de la cadena, Python no sustituye los valores de las variables ni calcula las expresiones.**"
      ],
      "metadata": {
        "id": "bKTrppaPCy5n"
      }
    },
    {
      "cell_type": "code",
      "source": [
        "nombre = \"Pedrito\"\n",
        "edad = 28\n",
        "print(\"Me llamo {nombre} y tengo {edad} años.\")"
      ],
      "metadata": {
        "id": "YZQ_CUohCvka"
      },
      "execution_count": null,
      "outputs": []
    },
    {
      "cell_type": "markdown",
      "source": [
        "**Si se quieren escribir los caracteres { o }, se deben escribir duplicados.**"
      ],
      "metadata": {
        "id": "aFa-caMTDK2U"
      }
    },
    {
      "cell_type": "code",
      "source": [
        "nombre = \"Pedrito\"\n",
        "edad = 28\n",
        "print(f\"Si escribe {{nombre}} se escribirá el valor de la variable nombre, \"\n",
        "      f\"en este caso {nombre}.\")"
      ],
      "metadata": {
        "id": "BbJ-cq8OCxMK",
        "colab": {
          "base_uri": "https://localhost:8080/"
        },
        "outputId": "1a49406e-46f9-4a39-f1b4-7828c19e3c04"
      },
      "execution_count": null,
      "outputs": [
        {
          "output_type": "stream",
          "name": "stdout",
          "text": [
            "Si escribe {nombre} se escribirá el valor de la variable nombre, en este caso Pedrito.\n"
          ]
        }
      ]
    },
    {
      "cell_type": "markdown",
      "source": [
        "## **ACTIVIDAD 1** "
      ],
      "metadata": {
        "id": "9JOxJyXkF7xV"
      }
    },
    {
      "cell_type": "markdown",
      "source": [
        "1.- Programa en Python Mostrar un mensaje que diga “HOLA MUNDO” en un solo renglón usando 2 print \n",
        "\n",
        "\n",
        "\n",
        "\n",
        "\n",
        "\n",
        "2.- Programa en Python que lea 2 números, realizar la\n",
        "\n",
        "suma y desplegar la suma de los 2 números\n",
        "\n",
        "\n",
        "\n",
        "3.- Programa en Python que lea 2 números y realice las 4\n",
        "\n",
        "operaciones básicas\n",
        "\n",
        "\n",
        "\n",
        "4.- Programa en Python Que sirva para calcular el área de\n",
        "\n",
        "un triángulo\n",
        "\n",
        "\n",
        "\n",
        "5.- Programa en Python que lea una medida en centímetros y\n",
        "\n",
        "desplegar la misma medida pero convertida en pies y pulgadas\n",
        "\n",
        "\n",
        "\n",
        "6.- Programa en Python que lea una temperatura en\n",
        "\n",
        "grados centígrados y desplegarla en Grados Fahrenheit y grados\n",
        "\n",
        "kelvin\n",
        "\n",
        "\n",
        "\n",
        "7.- Programa en Python que lea 4 calificaciones de un alumno,\n",
        "\n",
        "desplegar el promedio del alumno"
      ],
      "metadata": {
        "id": "zhi6bBcuGFVW"
      }
    },
    {
      "cell_type": "markdown",
      "source": [
        "1.- Programa en Python Mostrar un mensaje que diga “HOLA MUNDO” en un solo renglón usando 2 print"
      ],
      "metadata": {
        "id": "noW8q4_qENBu"
      }
    },
    {
      "cell_type": "code",
      "source": [
        "print(\"Hola\", end=\" \")\n",
        "print(\"Mundo\")\n"
      ],
      "metadata": {
        "id": "lPEXBe64FMc3",
        "outputId": "5fbec3c5-c202-4e1c-99e2-f2c91bd7ed17",
        "colab": {
          "base_uri": "https://localhost:8080/"
        }
      },
      "execution_count": null,
      "outputs": [
        {
          "output_type": "stream",
          "name": "stdout",
          "text": [
            "Hola Mundo\n"
          ]
        }
      ]
    },
    {
      "cell_type": "markdown",
      "source": [
        "2.- Programa en Python que lea 2 números, realizar la\n",
        "suma y desplegar la suma de los 2 números"
      ],
      "metadata": {
        "id": "dJTeNi5xhjhX"
      }
    },
    {
      "cell_type": "code",
      "source": [
        "num1 = int(input(\"Introduce el primer número: \"))\n",
        "num2 = int(input(\"Introduce el segundo número: \"))\n",
        "suma = num1 + num2\n",
        "print(\"La suma de\", num1, \"y\", num2, \"es igual a\", suma)"
      ],
      "metadata": {
        "colab": {
          "base_uri": "https://localhost:8080/"
        },
        "id": "-fYDlb1HhqDU",
        "outputId": "3a52a2c1-6f05-43c8-a42f-85084b3b6e33"
      },
      "execution_count": null,
      "outputs": [
        {
          "output_type": "stream",
          "name": "stdout",
          "text": [
            "Introduce el primer número: 5\n",
            "Introduce el segundo número: 7\n",
            "La suma de 5 y 7 es igual a 12\n"
          ]
        }
      ]
    },
    {
      "cell_type": "markdown",
      "source": [
        "3.- Programa en Python que lea 2 números y realice las 4\n",
        "operaciones básicas"
      ],
      "metadata": {
        "id": "HBnhAc3mibUl"
      }
    },
    {
      "cell_type": "code",
      "source": [
        "num1 = int(input(\"Introduce el primer número: \"))\n",
        "num2 = int(input(\"Introduce el segundo número: \"))\n",
        "suma = num1 + num2\n",
        "multiplicacion = num1 * num2\n",
        "resta = num1 - num2\n",
        "division = num1/num2\n",
        "print(\"--Suma: \", suma)\n",
        "print(\"--Resta: \", resta)\n",
        "print(\"--Multiplicacion: \", multiplicacion)\n",
        "print(\"--Division: \", division)"
      ],
      "metadata": {
        "colab": {
          "base_uri": "https://localhost:8080/"
        },
        "id": "1TK0f0_zifva",
        "outputId": "58438441-3351-4631-eeba-3b41305da059"
      },
      "execution_count": null,
      "outputs": [
        {
          "output_type": "stream",
          "name": "stdout",
          "text": [
            "Introduce el primer número: 5\n",
            "Introduce el segundo número: 5\n",
            "--Suma:  10\n",
            "--Resta:  0\n",
            "--Multiplicacion:  25\n",
            "--Division:  1.0\n"
          ]
        }
      ]
    },
    {
      "cell_type": "markdown",
      "source": [
        "4.- Programa en Python Que sirva para calcular el área de\n",
        "un triángulo"
      ],
      "metadata": {
        "id": "PANub-76kB-U"
      }
    },
    {
      "cell_type": "code",
      "source": [
        "base = float(input(\"Ingrese la base del triángulo (en centímetros): \"))\n",
        "altura = float(input(\"Ingrese la altura del triángulo (en centímetros): \"))\n",
        "area = (base * altura) / 2\n",
        "print(\"El área del triángulo es de\", area, \"cm2.\")"
      ],
      "metadata": {
        "colab": {
          "base_uri": "https://localhost:8080/"
        },
        "id": "GhFjW02mkITW",
        "outputId": "adbca646-26b1-413e-b90a-b0f6474d9c3f"
      },
      "execution_count": null,
      "outputs": [
        {
          "output_type": "stream",
          "name": "stdout",
          "text": [
            "Ingrese la base del triángulo (en centímetros): 45\n",
            "Ingrese la altura del triángulo (en centímetros): 66\n",
            "El área del triángulo es de 1485.0 centímetros cuadrados.\n"
          ]
        }
      ]
    },
    {
      "cell_type": "markdown",
      "source": [
        "5.- Programa en Python que lea una medida en centímetros y\n",
        "desplegar la misma medida pero convertida en pies y pulgadas"
      ],
      "metadata": {
        "id": "JmwlY5HwkjcI"
      }
    },
    {
      "cell_type": "code",
      "source": [
        "centimeters = float(input(\"Ingrese la medida en centímetros: \"))\n",
        "pulgadas = centimeters / 2.54\n",
        "pies = pulgadas / 12\n",
        "pulgadas = pulgadas % 12\n",
        "print(\"La medida en pies es: %d pies y %d pulgadas\" % (pies, pulgadas))"
      ],
      "metadata": {
        "colab": {
          "base_uri": "https://localhost:8080/"
        },
        "id": "17oMjP-nkomh",
        "outputId": "85bf9336-f64a-47fd-9615-c5bc0ef18396"
      },
      "execution_count": null,
      "outputs": [
        {
          "output_type": "stream",
          "name": "stdout",
          "text": [
            "Ingrese la medida en centímetros: 234234\n",
            "La medida en pies es: 7684 pies y 10 pulgadas\n"
          ]
        }
      ]
    },
    {
      "cell_type": "markdown",
      "source": [
        "6.- Programa en Python que lea una temperatura en\n",
        "grados centígrados y desplegarla en Grados Fahrenheit y grados\n",
        "kelvin"
      ],
      "metadata": {
        "id": "d_KBMmDklcc8"
      }
    },
    {
      "cell_type": "code",
      "source": [
        "celsius = float(input(\"Ingrese la temperatura en grados Celsius: \"))\n",
        "fahrenheit = (celsius * 9 / 5) + 32\n",
        "kelvin = celsius + 273.15\n",
        "print(\"La temperatura en grados Fahrenheit es:\", fahrenheit)\n",
        "print(\"La temperatura en grados Kelvin es:\", kelvin)"
      ],
      "metadata": {
        "colab": {
          "base_uri": "https://localhost:8080/"
        },
        "id": "Hl-YM2zjliWC",
        "outputId": "ec64172a-7bd4-4392-aed9-a12890563730"
      },
      "execution_count": null,
      "outputs": [
        {
          "output_type": "stream",
          "name": "stdout",
          "text": [
            "Ingrese la temperatura en grados Celsius: 8976\n",
            "La temperatura en grados Fahrenheit es: 16188.80\n",
            "La temperatura en grados Kelvin es: 9249.15\n"
          ]
        }
      ]
    },
    {
      "cell_type": "markdown",
      "source": [
        "7.- Programa en Python que lea 4 calificaciones de un alumno,\n",
        "desplegar el promedio del alumno"
      ],
      "metadata": {
        "id": "A30rspWwmj6R"
      }
    },
    {
      "cell_type": "code",
      "source": [
        "cal1 = float(input(\"Ingrese la primera calificación: \"))\n",
        "cal2 = float(input(\"Ingrese la segunda calificación: \"))\n",
        "cal3 = float(input(\"Ingrese la tercera calificación: \"))\n",
        "cal4 = float(input(\"Ingrese la cuarta calificación: \"))\n",
        "\n",
        "promedio = (cal1 + cal2 + cal3 + cal4) / 4\n",
        "\n",
        "print(\"El promedio del alumno es: %.2f\" % promedio)"
      ],
      "metadata": {
        "colab": {
          "base_uri": "https://localhost:8080/"
        },
        "id": "dPaISfUiml2_",
        "outputId": "69aeb53c-2d44-42f3-fe8f-8918cf8d82ef"
      },
      "execution_count": null,
      "outputs": [
        {
          "output_type": "stream",
          "name": "stdout",
          "text": [
            "Ingrese la primera calificación: 10\n",
            "Ingrese la segunda calificación: 10\n",
            "Ingrese la tercera calificación: 10\n",
            "Ingrese la cuarta calificación: 10\n",
            "El promedio del alumno es: 10.00\n"
          ]
        }
      ]
    }
  ]
}