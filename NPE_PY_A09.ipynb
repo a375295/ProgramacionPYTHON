{
  "nbformat": 4,
  "nbformat_minor": 0,
  "metadata": {
    "colab": {
      "provenance": [],
      "authorship_tag": "ABX9TyPdUMk2CyON9+uXZKhBQDfr",
      "include_colab_link": true
    },
    "kernelspec": {
      "name": "python3",
      "display_name": "Python 3"
    },
    "language_info": {
      "name": "python"
    }
  },
  "cells": [
    {
      "cell_type": "markdown",
      "metadata": {
        "id": "view-in-github",
        "colab_type": "text"
      },
      "source": [
        "<a href=\"https://colab.research.google.com/github/a375295/ProgramacionPYTHON/blob/main/NPE_PY_A09.ipynb\" target=\"_parent\"><img src=\"https://colab.research.google.com/assets/colab-badge.svg\" alt=\"Open In Colab\"/></a>"
      ]
    },
    {
      "cell_type": "code",
      "source": [
        "import random as rm\n",
        "id = 0"
      ],
      "metadata": {
        "id": "QSOjpcqFWn1W"
      },
      "execution_count": 1,
      "outputs": []
    },
    {
      "cell_type": "code",
      "source": [
        "appat = [\"Perez\", \"Galindo\", \"Nevarez\", \"Yepiz\", \"Zambrano\", \"Cardenas\", \"Garza\", \"Morro\", \"Murrieta\", \"Hidalgo\", \"Vazquez\", \"Martinez\"]\n",
        "apmat = [\"Lopez\", \"Palma\", \"Cruz\", \"Fernandez\", \"Martinez\", \"Leyva\", \"Contreras\", \"Perez\", \"Hidalgo\", \"Encinas\", \"Romero\", \"Ortiz\"]\n",
        "edad = [19, 20, 21, 25, 18, 17, 22, 30, 38, 41, 50, 24]\n",
        "nombre_fem = [\"Ana\", \"Beatriz\", \"Carla\", \"Diana\", \"Elena\", \"Laura\", \"Martina\", \"Natalia\", \"Victoria Elena\", \"María Paula\", \"Carolina\", \"María Fernanda\"]\n",
        "nombre_mas = [\"Juan Pablo\", \"Luis Miguel\", \"Jorge Luis\", \"José Luis\", \"Adrián\", \"Alejandro\", \"Carlos\", \"César\", \"David\", \"Emilio\", \"Federico\", \"Gabriel\"]\n"
      ],
      "metadata": {
        "id": "8_fIewwOWtv-"
      },
      "execution_count": 2,
      "outputs": []
    },
    {
      "cell_type": "code",
      "execution_count": 3,
      "metadata": {
        "id": "iYQDtkz8Memz"
      },
      "outputs": [],
      "source": [
        "def crear_dicc():\n",
        "    global id\n",
        "    id += 1;\n",
        "    diccionario = {\"id\": id, \"Nombre\": \"\", \"Apellido Paterno\": \"\", \"Apellido Materno\": \"\", \"Edad\": 0, \"Sexo\": \"\"}\n",
        "\n",
        "    diccionario['id'] = id \n",
        "\n",
        "    # Para seleccionar el nombre\n",
        "    nombre_aleatorio = rm.choice(nombre_fem + nombre_mas)\n",
        "    diccionario['Nombre'] = nombre_aleatorio\n",
        "\n",
        "    ap_paterno = rm.choice(appat)\n",
        "    ap_materno = rm.choice(apmat)\n",
        "    while ap_paterno == ap_materno:\n",
        "        ap_materno = rm.choice(apmat)\n",
        "    # Para seleccionar el apellido paterno\n",
        "    diccionario['Apellido Paterno'] = ap_paterno\n",
        "\n",
        "    # Para seleccionar el apellido materno\n",
        "    diccionario['Apellido Materno'] = ap_materno\n",
        "    \n",
        "    # Para seleccionar la edad\n",
        "    diccionario['Edad'] = rm.choice(edad)\n",
        "\n",
        "    # Para seleccionar el sexo\n",
        "    if nombre_aleatorio in nombre_mas:\n",
        "        diccionario['Sexo'] = \"Masculino\"\n",
        "    else:\n",
        "        diccionario['Sexo'] = \"Femenino\"\n",
        "    \n",
        "    return diccionario\n",
        "    "
      ]
    },
    {
      "cell_type": "code",
      "source": [
        "def imprimir_dicc(dicc):\n",
        "   print(dicc)"
      ],
      "metadata": {
        "id": "rtdi4xrbM5Jc"
      },
      "execution_count": 4,
      "outputs": []
    },
    {
      "cell_type": "code",
      "source": [
        "def menu():\n",
        "    print(\"MENU \\n1.- Crear Diccionario \\n2.- Imprimir Diccionario \\n0.- Salir \\n\")\n",
        "    while True:\n",
        "        try:\n",
        "            opcion = int(input(\"Ingrese una opcion \"))\n",
        "            if opcion == 1:\n",
        "                dicc = crear_dicc()\n",
        "                continue\n",
        "            elif opcion == 2:\n",
        "                imprimir_dicc(dicc)\n",
        "                continue\n",
        "            elif opcion == 0:\n",
        "                print(\"Programa Finalizado\")\n",
        "                break\n",
        "            else:\n",
        "                print(\"Opción inválida. Por favor, ingrese una opción válida.\")\n",
        "        except ValueError:\n",
        "            print(\"Error: Solo debes de ingresar valores numericos\")\n",
        "\n",
        "menu()"
      ],
      "metadata": {
        "id": "i9BIJ0BnM8g3",
        "colab": {
          "base_uri": "https://localhost:8080/"
        },
        "outputId": "3747b70f-032f-48c9-bcbb-c7f7f60a0087"
      },
      "execution_count": 10,
      "outputs": [
        {
          "output_type": "stream",
          "name": "stdout",
          "text": [
            "MENU \n",
            "1.- Crear Diccionario \n",
            "2.- Imprimir Diccionario \n",
            "0.- Salir \n",
            "\n",
            "Ingrese una opcion 1\n",
            "Ingrese una opcion 2\n",
            "{'id': 7, 'Nombre': 'Federico', 'Apellido Paterno': 'Zambrano', 'Apellido Materno': 'Martinez', 'Edad': 22, 'Sexo': 'Masculino'}\n",
            "Ingrese una opcion 2\n",
            "{'id': 7, 'Nombre': 'Federico', 'Apellido Paterno': 'Zambrano', 'Apellido Materno': 'Martinez', 'Edad': 22, 'Sexo': 'Masculino'}\n",
            "Ingrese una opcion 1\n",
            "Ingrese una opcion 2\n",
            "{'id': 8, 'Nombre': 'César', 'Apellido Paterno': 'Cardenas', 'Apellido Materno': 'Hidalgo', 'Edad': 18, 'Sexo': 'Masculino'}\n",
            "Ingrese una opcion 0\n",
            "Programa Finalizado\n"
          ]
        }
      ]
    },
    {
      "cell_type": "code",
      "source": [],
      "metadata": {
        "id": "l5iA1fsVX2xO"
      },
      "execution_count": null,
      "outputs": []
    }
  ]
}