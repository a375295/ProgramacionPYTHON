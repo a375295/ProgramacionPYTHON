{
  "nbformat": 4,
  "nbformat_minor": 0,
  "metadata": {
    "colab": {
      "provenance": [],
      "authorship_tag": "ABX9TyOvqIPuR38VsdDe8JqhWN62",
      "include_colab_link": true
    },
    "kernelspec": {
      "name": "python3",
      "display_name": "Python 3"
    },
    "language_info": {
      "name": "python"
    }
  },
  "cells": [
    {
      "cell_type": "markdown",
      "metadata": {
        "id": "view-in-github",
        "colab_type": "text"
      },
      "source": [
        "<a href=\"https://colab.research.google.com/github/a375295/ProgramacionPYTHON/blob/main/NPE_PY_A04.ipynb\" target=\"_parent\"><img src=\"https://colab.research.google.com/assets/colab-badge.svg\" alt=\"Open In Colab\"/></a>"
      ]
    },
    {
      "cell_type": "markdown",
      "source": [
        "**ACTIVIDAD 4**\n",
        "\n",
        "REALIZA LOS SIGUIENTES EJERCICIOS USANDO LA FORMA ADECUADA Y USANDO **try Except** NO DEBERA FALLAR EL PROGRAMA.\n",
        "\n",
        "**1.- Programa en python   que lea 3 calificaciones calcule el promedio del alumno y desplegar: **\n",
        "\n",
        "Si prom < 30 Repetir \n",
        "\n",
        "Si prom >=30 y prom <60 extraordinario \n",
        "\n",
        "Si prom >=60 y prom <70 suficiente \n",
        "\n",
        "Si prom >=70 y prom <80 Regular \n",
        "\n",
        "Si prom >=80 y prom <90 bien \n",
        "\n",
        "Si prom >=90 y prom <98 muy bien \n",
        "\n",
        "Si prom >=98 y prom <=100 excelente \n",
        "\n",
        "Si prom >100 Error en promedio "
      ],
      "metadata": {
        "id": "4xrfdslC7Z7R"
      }
    },
    {
      "cell_type": "code",
      "source": [
        "9try:    \n",
        "    cal1 = int(input(\"Ingrese la primera calificación: \"))\n",
        "    cal2 = int(input(\"Ingrese la segunda calificación: \"))\n",
        "    cal3 = int(input(\"Ingrese la tercera calificación: \"))\n",
        "\n",
        "    prom = (cal1 + cal2 + cal3) / 3\n",
        "\n",
        "    if prom < 30:\n",
        "      print(f\"El alumno debera repetir la materia, tiene un promedio de {prom}\")\n",
        "    elif prom >= 30 and prom < 60:\n",
        "      print(f\"El alumno debera hacer extraordinario, tiene un promedio de {prom}\")\n",
        "    elif prom >= 60 and prom < 70:\n",
        "      print(f\"Sufciente, con un promedio de {prom}\")\n",
        "    elif prom >= 70 and prom < 80:\n",
        "      print(f\"Regular, con promedio de {prom}\")\n",
        "    elif prom >= 80 and prom < 90:\n",
        "      print(f\"Bien, con promedio de {prom}\")\n",
        "    elif prom >= 90 and prom < 98:\n",
        "      print(f\"Muy bien, con promedio de {prom}\")\n",
        "    elif prom >= 98 and prom <= 100:\n",
        "      print(f\"Excelente, con promedio de {prom}\")\n",
        "    elif prom > 100:\n",
        "      print(f\"Error al sacar promedio\")\n",
        "except ValueError:\n",
        "    print(\"Error: Los valores ingresados deben ser números enteros.\")"
      ],
      "metadata": {
        "colab": {
          "base_uri": "https://localhost:8080/",
          "height": 0
        },
        "id": "Res9ScCQAvBB",
        "outputId": "8190442c-6057-4521-ceae-6d560570468e"
      },
      "execution_count": 33,
      "outputs": [
        {
          "output_type": "stream",
          "name": "stdout",
          "text": [
            "Ingrese la primera calificación: 100\n",
            "Ingrese la segunda calificación: 0\n",
            "Ingrese la tercera calificación: 100\n",
            "Sufciente, con un promedio de 66.66666666666667\n"
          ]
        }
      ]
    },
    {
      "cell_type": "markdown",
      "source": [
        "2.- Programa en Python que sirva para calcular el salario semanal de un trabajador donde se obtiene como dato de entrada las **horas semanales** trabajadas, el **salario por hora**. \n",
        "\n",
        "El programa deberá calcular el **salario normal, salario extra y salario total**, considerando lo siguiente: \n",
        "\n",
        " - Jornada Normal de 40 horas. \n",
        " - El salario normal se considera las horas trabajadas menores o igual a la jornada normal.\n",
        " - Salario extra se considera las horas trabajadas mayores a la jornada normal y se pagan dobles las primeras 9 y triples a partir de la décima hora extra.\n",
        "\n",
        "\n",
        "**Nota:** Desplegar todos los datos (Salario x hora, Horas Trabajadas, Salario normal, Salario extra y Salario Total)"
      ],
      "metadata": {
        "id": "oRD9vv_S9mOK"
      }
    },
    {
      "cell_type": "code",
      "source": [
        "try:\n",
        "    horas_trabajadas = int(input(\"Ingrese las horas semanales trabajadas: \"))\n",
        "    salario_hora = int(input(\"Ingrese el salario por hora: \"))\n",
        "    \n",
        "    if horas_trabajadas <= 40:\n",
        "        salario_normal = horas_trabajadas * salario_hora\n",
        "        salario_extra  = 0;\n",
        "    else:\n",
        "        salario_normal = 40 * salario_hora\n",
        "        horas_extra = horas_trabajadas - 40\n",
        "        if horas_extra <= 9:\n",
        "            salario_extra = horas_extra * salario_hora * 2\n",
        "        else:\n",
        "            salario_extra = (9 * salario_hora * 2) + ((horas_extra - 9) * salario_hora * 3)\n",
        "    \n",
        "    salario_total = salario_normal + salario_extra\n",
        "    \n",
        "    print(f\"Salario por hora $ {salario_hora}\")\n",
        "    print(f\"Horas Trabajadas {horas_trabajadas}\")\n",
        "    print(f\"Salario Normal ${salario_normal}\")\n",
        "    print(f\"Salario Extra ${salario_extra}\")\n",
        "    print(f\"Salario Total ${salario_total}\")\n",
        "except ValueError:\n",
        "    print(\"Error: Los valores ingresados deben ser números enteros.\")"
      ],
      "metadata": {
        "colab": {
          "base_uri": "https://localhost:8080/",
          "height": 0
        },
        "id": "KKn0ANOtGJYq",
        "outputId": "42ae1645-5ef3-4d9c-ce23-c254004290c8"
      },
      "execution_count": 22,
      "outputs": [
        {
          "output_type": "stream",
          "name": "stdout",
          "text": [
            "Ingrese las horas semanales trabajadas: k\n",
            "Error: Los valores ingresados deben ser números enteros.\n"
          ]
        }
      ]
    },
    {
      "cell_type": "markdown",
      "source": [
        "3.- Programa en Python que sirva para calcular el Total a pagar por consumo de agua, donde el dato de entrada son los M3 de agua consumidos, Tomar en cuenta que se cobra escalonada de la Siguiente manera: \n",
        "\n",
        "- Rango1: 0 al 4 M3 $50 x facturación sin importar cuánto consumió en este rango \n",
        "\n",
        "- Rango2: 5 a 15 M3 $8.00 x M3 \n",
        "\n",
        "- Rango3: 16 a 50 M3 $10.00 x M3 \n",
        "\n",
        "- Rango4: 51 M3 en adelante $11.00 x M3 \n",
        "\n",
        "Nota: Desplegar SubTotal, Iva(16%), y Total a pagar."
      ],
      "metadata": {
        "id": "kXVJQQ9TIEVv"
      }
    },
    {
      "cell_type": "code",
      "source": [
        "try:\n",
        "    m3_consumidos = float(input(\"Ingrese los M3 de agua consumidos: \"))\n",
        "    \n",
        "    # Se calcula el subtotal de acuerdo a los rangos establecidos\n",
        "    if m3_consumidos <= 4:\n",
        "        subtotal = 50\n",
        "    elif m3_consumidos <= 15:\n",
        "        subtotal = 50 + ((m3_consumidos - 4) * 8)\n",
        "    elif m3_consumidos <= 50:\n",
        "        subtotal = 162 + ((m3_consumidos - 15) * 10)\n",
        "    else:\n",
        "        subtotal = 662 + ((m3_consumidos - 50) * 11)\n",
        "    \n",
        "    # Se calcula el IVA y el total a pagar\n",
        "    iva = subtotal * 0.16\n",
        "    total_pagar = subtotal + iva\n",
        "    \n",
        "    # Se imprimen los resultados\n",
        "    print(\"Subtotal: $\", subtotal)\n",
        "    print(\"IVA (16%): $\", iva)\n",
        "    print(\"Total a pagar: $\", total_pagar)\n",
        "except ValueError:\n",
        "    print(\"Error: Los valores ingresados deben ser números enteros.\")"
      ],
      "metadata": {
        "colab": {
          "base_uri": "https://localhost:8080/",
          "height": 0
        },
        "id": "hu0sCKGNJ8SS",
        "outputId": "8d2d3fd1-3773-4b41-bd89-e25730043830"
      },
      "execution_count": 27,
      "outputs": [
        {
          "output_type": "stream",
          "name": "stdout",
          "text": [
            "Ingrese los M3 de agua consumidos: 34.tret-\n",
            "Error: Los valores ingresados deben ser números enteros.\n"
          ]
        }
      ]
    },
    {
      "cell_type": "markdown",
      "source": [
        "4- En la materia de Metodología de la programación se aplican 5 exámenes, calcular el promedio final de la materia donde la calificación menor de los exámenes se anula y el promedio se calcula en base a 4 exámenes.\n",
        "\n",
        "**Desplegar el promedio final. y cual es la mas baja que se elimino.**"
      ],
      "metadata": {
        "id": "0TRF857XKqvo"
      }
    },
    {
      "cell_type": "code",
      "source": [
        "try:\n",
        "    calif1 = int(input(\"Introduce la calificación del examen 1: \"))\n",
        "    calif2 = int(input(\"Introduce la calificación del examen 2: \"))\n",
        "    calif3 = int(input(\"Introduce la calificación del examen 3: \"))\n",
        "    calif4 = int(input(\"Introduce la calificación del examen 4: \"))\n",
        "    calif5 = int(input(\"Introduce la calificación del examen 5: \"))\n",
        "\n",
        "    calif_baja = min(calif1, calif2, calif3, calif4, calif5)\n",
        "\n",
        "    promedio_final = (calif1 + calif2 + calif3 + calif4 + calif5 - calif_baja) / 4\n",
        "\n",
        "    print(\"El promedio final es:\", promedio_final)\n",
        "    print(\"La calificación más baja que se eliminó es:\", calif_baja)\n",
        "\n",
        "except ValueError:\n",
        "    print(\"Error: Debes introducir un número válido.\")"
      ],
      "metadata": {
        "colab": {
          "base_uri": "https://localhost:8080/",
          "height": 0
        },
        "id": "JtHDi-8xKuxI",
        "outputId": "519488ef-2eec-4ae7-b522-00150b8f54ae"
      },
      "execution_count": 6,
      "outputs": [
        {
          "output_type": "stream",
          "name": "stdout",
          "text": [
            "Introduce la calificación del examen 1: 100\n",
            "Introduce la calificación del examen 2: 90\n",
            "Introduce la calificación del examen 3: 80\n",
            "Introduce la calificación del examen 4: 50\n",
            "Introduce la calificación del examen 5: 70\n",
            "El promedio final es: 85.0\n",
            "La calificación más baja que se eliminó es: 50\n"
          ]
        }
      ]
    },
    {
      "cell_type": "markdown",
      "source": [
        "5.- Programa en Python que sirva para el juego del CHINCHAMPU (Piedra, Papel, Tijera) para 1 jugador y la computadora"
      ],
      "metadata": {
        "id": "T7FintK-K_wb"
      }
    },
    {
      "cell_type": "code",
      "source": [
        "import random\n",
        "\n",
        "print(\"1: Piedra, 2: Papel, 3: Tijera\")\n",
        "try:\n",
        "    jugador = int(input(\"Introduce tu elección (1-3): \"))\n",
        "\n",
        "    if(jugador not in [1, 2, 3]):\n",
        "        raise ValueError(\"Seleccion Invalida. Introduce solo 1, 2 o 3\")\n",
        "\n",
        "    computadora = random.randint(1, 3)\n",
        "\n",
        "    if jugador == computadora:\n",
        "        print(\"Empate\")\n",
        "    elif jugador == 1:\n",
        "        if computadora == 2:\n",
        "            print(\"Perdiste, Papel envuelve a Piedra\")\n",
        "        else:\n",
        "            print(\"Ganaste, Piedra rompe Tijera\")\n",
        "    elif jugador == 2:\n",
        "        if computadora == 3:\n",
        "            print(\"Perdiste, Tijera corta Papel\")\n",
        "        else:\n",
        "            print(\"Ganaste, Papel envuelve a Piedra\")\n",
        "    elif jugador == 3:\n",
        "        if computadora == 1:\n",
        "            print(\"Perdiste, Piedra rompe Tijera\")\n",
        "        else:\n",
        "            print(\"Ganaste, Tijera corta Papel\")\n",
        "    else:\n",
        "        print(\"Elección inválida, inténtalo de nuevo\")\n",
        "except ValueError as e:\n",
        "    print(\"Error:\", e)"
      ],
      "metadata": {
        "colab": {
          "base_uri": "https://localhost:8080/",
          "height": 0
        },
        "id": "jOHqH-q3Mm1b",
        "outputId": "5e01c796-68f3-4b66-a5e8-4bb36056dc0a"
      },
      "execution_count": 18,
      "outputs": [
        {
          "output_type": "stream",
          "name": "stdout",
          "text": [
            "1: Piedra, 2: Papel, 3: Tijera\n",
            "Introduce tu elección (1-3): 4\n",
            "Error: Seleccion Invalida. Introduce solo 1, 2 o 3\n"
          ]
        }
      ]
    },
    {
      "cell_type": "markdown",
      "source": [
        "6.- Programa en Python que lea 4 números enteros desplegar cuales el menor, cual es mayor"
      ],
      "metadata": {
        "id": "PpNTUs7mMnQb"
      }
    },
    {
      "cell_type": "code",
      "source": [
        "try:\n",
        "    num1 = int(input(\"Ingresa el primer número: \"))\n",
        "    num2 = int(input(\"Ingresa el segundo número: \"))\n",
        "    num3 = int(input(\"Ingresa el tercer número: \"))\n",
        "    num4 = int(input(\"Ingresa el cuarto número: \"))\n",
        "\n",
        "    menor = min(num1, num2, num3, num4)\n",
        "    mayor = max(num1, num2, num3, num4)\n",
        "\n",
        "    print(\"El número menor es:\", menor)\n",
        "    print(\"El número mayor es:\", mayor)\n",
        "\n",
        "except ValueError:\n",
        "        print(\"Ingresa un número entero válido.\")\n"
      ],
      "metadata": {
        "colab": {
          "base_uri": "https://localhost:8080/",
          "height": 0
        },
        "id": "oTKVx2ofMqRz",
        "outputId": "32d5e193-b35f-4881-ceba-4f77663b8502"
      },
      "execution_count": 22,
      "outputs": [
        {
          "output_type": "stream",
          "name": "stdout",
          "text": [
            "Ingresa el primer número: 999\n",
            "Ingresa el segundo número: 11\n",
            "Ingresa el tercer número: 23\n",
            "Ingresa el cuarto número: 634\n",
            "El número menor es: 11\n",
            "El número mayor es: 999\n"
          ]
        }
      ]
    },
    {
      "cell_type": "markdown",
      "source": [
        "7.- Programa en Python que sirva para calcular el área de un triangulo, los datos de entrada deben ser forzosamente de tipo real"
      ],
      "metadata": {
        "id": "vdLwntIfMqtw"
      }
    },
    {
      "cell_type": "code",
      "source": [
        "try:\n",
        "    base = float(input(\"Ingresa la base del triángulo: \"))\n",
        "    altura = float(input(\"Ingresa la altura del triángulo: \"))\n",
        "\n",
        "    area = (base * altura) / 2\n",
        "\n",
        "    print(\"El área del triángulo es:\", area)\n",
        "except ValueError:\n",
        "        print(\"Ingresa un número real válido.\")"
      ],
      "metadata": {
        "colab": {
          "base_uri": "https://localhost:8080/",
          "height": 0
        },
        "id": "zNF0hIjUMs5-",
        "outputId": "bd276960-dcf9-499e-ecde-75a715ca39f0"
      },
      "execution_count": 30,
      "outputs": [
        {
          "output_type": "stream",
          "name": "stdout",
          "text": [
            "Ingresa la base del triángulo: 56\n",
            "Ingresa la altura del triángulo: 33\n",
            "El área del triángulo es: 924.0\n"
          ]
        }
      ]
    },
    {
      "cell_type": "markdown",
      "source": [
        "8.- Programa en Python que sirva para calcular el área de un circulo"
      ],
      "metadata": {
        "id": "-jbXt4DRMtSB"
      }
    },
    {
      "cell_type": "code",
      "source": [
        "import math\n",
        "\n",
        "try:\n",
        "    radio = float(input(\"Ingresa el radio del círculo: \"))\n",
        "   \n",
        "    area = math.pi * (radio ** 2)\n",
        "\n",
        "    print(\"El área del círculo es:\", area)\n",
        "except ValueError:\n",
        "        print(\"Ingresa un número real válido.\")"
      ],
      "metadata": {
        "colab": {
          "base_uri": "https://localhost:8080/",
          "height": 0
        },
        "id": "X9J36CkwMvZ0",
        "outputId": "b3f05de3-1930-4267-9220-3a4750636e99"
      },
      "execution_count": 32,
      "outputs": [
        {
          "output_type": "stream",
          "name": "stdout",
          "text": [
            "Ingresa el radio del círculo: 23\n",
            "El área del círculo es: 1661.9025137490005\n"
          ]
        }
      ]
    }
  ]
}