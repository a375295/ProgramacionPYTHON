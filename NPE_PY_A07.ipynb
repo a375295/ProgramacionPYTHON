{
  "nbformat": 4,
  "nbformat_minor": 0,
  "metadata": {
    "colab": {
      "provenance": [],
      "authorship_tag": "ABX9TyPZGwpxD2JHaqqQcQHwGSbU",
      "include_colab_link": true
    },
    "kernelspec": {
      "name": "python3",
      "display_name": "Python 3"
    },
    "language_info": {
      "name": "python"
    }
  },
  "cells": [
    {
      "cell_type": "markdown",
      "metadata": {
        "id": "view-in-github",
        "colab_type": "text"
      },
      "source": [
        "<a href=\"https://colab.research.google.com/github/a375295/ProgramacionPYTHON/blob/main/NPE_PY_A07.ipynb\" target=\"_parent\"><img src=\"https://colab.research.google.com/assets/colab-badge.svg\" alt=\"Open In Colab\"/></a>"
      ]
    },
    {
      "cell_type": "code",
      "execution_count": null,
      "metadata": {
        "id": "J25czs8xt3cj"
      },
      "outputs": [],
      "source": [
        "# ACTIVIDAD 7: LISTAS"
      ]
    },
    {
      "cell_type": "code",
      "source": [
        "import random"
      ],
      "metadata": {
        "id": "JIIXPq7VyY5j"
      },
      "execution_count": 17,
      "outputs": []
    },
    {
      "cell_type": "code",
      "source": [
        "#1.- Función que utilice una lista con los nombres de tus mascotas, o artistas favoritos, \n",
        "#(minimo 5, maximo 10) imprimir las cadenas y la cantidad de caracteres de cada cadena. \n",
        "\n",
        "def imprimir_carac(lista):\n",
        "    try:\n",
        "        contador = 0\n",
        "        for elemento in lista:\n",
        "            caracteres = len(elemento)\n",
        "            print(f\"[{contador}] {elemento} --> {caracteres} caracteres.\")\n",
        "            contador +=1\n",
        "    except Exception as e:\n",
        "        print(f\"Ocurrió un error: {e}\")\n",
        "\n",
        "lista = [\"SCARLETT\",\"GATINA\",\"PELUSA\",\"PELUSINA\",\"MILO\",\"KHALIFA\"]\n",
        "imprimir_carac(lista)"
      ],
      "metadata": {
        "colab": {
          "base_uri": "https://localhost:8080/",
          "height": 0
        },
        "id": "kbyEpz2vuQeu",
        "outputId": "2fd16dfa-12dd-43da-e3f7-e99511bf3168"
      },
      "execution_count": 45,
      "outputs": [
        {
          "output_type": "stream",
          "name": "stdout",
          "text": [
            "[0] SCARLETT --> 8 caracteres.\n",
            "[1] GATINA --> 6 caracteres.\n",
            "[2] PELUSA --> 6 caracteres.\n",
            "[3] PELUSINA --> 8 caracteres.\n",
            "[4] MILO --> 4 caracteres.\n",
            "[5] KHALIFA --> 7 caracteres.\n"
          ]
        }
      ]
    },
    {
      "cell_type": "code",
      "source": [
        "#2.- Programa que utilice 2 funciones, \n",
        "#Función que genere y regrese una lista con 10 números aleatorios entre el 30 y 50 (no repetidos). \n",
        "#Función que reciba una lista , Imprimir la lista (Indice y Valor )\n",
        " #Mandar llamar la función e imprimir toda la lista. \n",
        " \n",
        "def generar_lista_aleatoria():\n",
        "    try:\n",
        "        lista = random.sample(range(30, 51), 10)\n",
        "        return lista\n",
        "    except Exception as e:\n",
        "        print(f\"Ocurrió un error: {e}\")\n",
        "        \n",
        "def imprimir_lista(lista):\n",
        "    try:\n",
        "        for i, valor in enumerate(lista):\n",
        "            print(f\"{i}. {valor}\")\n",
        "    except Exception as e:\n",
        "        print(f\"Ocurrió un error: {e}\")\n",
        "        \n",
        "lista_aleatoria = generar_lista_aleatoria()\n",
        "imprimir_lista(lista_aleatoria)"
      ],
      "metadata": {
        "colab": {
          "base_uri": "https://localhost:8080/",
          "height": 0
        },
        "id": "Qe1lD0XWycDQ",
        "outputId": "8b9909d3-d602-4e35-ab18-fe9c50345662"
      },
      "execution_count": 46,
      "outputs": [
        {
          "output_type": "stream",
          "name": "stdout",
          "text": [
            "0. 50\n",
            "1. 44\n",
            "2. 45\n",
            "3. 39\n",
            "4. 36\n",
            "5. 37\n",
            "6. 35\n",
            "7. 32\n",
            "8. 48\n",
            "9. 30\n"
          ]
        }
      ]
    },
    {
      "cell_type": "code",
      "source": [
        "#3.- Escribe una función que reciba dos listas de números del mismo tamaño y calcule la suma de los elementos correspondientes de cada lista. \n",
        "#(regresar una nueva lista) . Luego, muestra una lista con los resultados de cada suma. \n",
        "#Nota: si las listas no son del mismo tamaño mandar msge y utilizar el tamaño de la lista mas pequeña)\n",
        "\n",
        "def sumar_listas(lista1, lista2):\n",
        "    try:\n",
        "        if len(lista1) != len(lista2):\n",
        "            print(\"Las listas no son del mismo tamaño. Se usará el tamaño de la lista más pequeña.\")\n",
        "            tamaño_minimo = min(len(lista1), len(lista2))\n",
        "            lista1 = lista1[:tamaño_minimo]\n",
        "            lista2 = lista2[:tamaño_minimo]\n",
        "        resultado = []\n",
        "        for i in range(len(lista1)):\n",
        "            suma = lista1[i] + lista2[i]\n",
        "            resultado.append(suma)\n",
        "        return resultado\n",
        "    except Exception as e:\n",
        "        print(f\"Ocurrió un error: {e}. Solo se aceptan valores numericos\")\n",
        "\n",
        "lista1 = [1, 2, 3, 4, 5]\n",
        "lista2 = [10, 20, 30, 40]\n",
        "\n",
        "resultado = sumar_listas(lista1, lista2)\n",
        "if resultado:\n",
        "    print(resultado)"
      ],
      "metadata": {
        "colab": {
          "base_uri": "https://localhost:8080/",
          "height": 0
        },
        "id": "1--zsMVDyuPu",
        "outputId": "bb27649a-2462-4602-b3cf-cd5eecd04efa"
      },
      "execution_count": 47,
      "outputs": [
        {
          "output_type": "stream",
          "name": "stdout",
          "text": [
            "Las listas no son del mismo tamaño. Se usará el tamaño de la lista más pequeña.\n",
            "[11, 22, 33, 44]\n"
          ]
        }
      ]
    },
    {
      "cell_type": "code",
      "source": [
        "# 4.- Escribe una función llamada eliminar_duplicados que reciba una lista como parámetro y elimine los elementos duplicados. \n",
        "#El resultado debe ser una nueva lista sin duplicados. \n",
        "#Pide al usuario que ingrese una lista y luego llama a la función eliminar_duplicados para mostrar la lista sin duplicados. \n",
        "#(Solo Numeros enteros, validar)\n",
        "\n",
        "def eliminar_duplicados(lista):\n",
        "    try:\n",
        "        # Validar que todos los elementos sean números enteros\n",
        "        for elem in lista:\n",
        "            if not isinstance(elem, int):\n",
        "                raise ValueError(\"La lista solo debe contener números enteros.\")\n",
        "        \n",
        "        # Eliminar los elementos duplicados utilizando un conjunto\n",
        "        lista_sin_duplicados = list(set(lista))\n",
        "        return lista_sin_duplicados\n",
        "    except ValueError as ve:\n",
        "        print(f\"Ocurrió un error: {ve}\")\n",
        "    except Exception as e:\n",
        "        print(f\"Ocurrió un error: {e}\")\n",
        "\n",
        "lista = []\n",
        "while True:\n",
        "    try:\n",
        "        entrada = input(\"Ingrese un número entero para la lista (Enter para terminar): \")\n",
        "        if entrada == \"\":\n",
        "            break\n",
        "        elemento = int(entrada)\n",
        "        lista.append(elemento)\n",
        "    except ValueError:\n",
        "        print(\"Por favor, ingrese solo números enteros.\")\n",
        "\n",
        "lista_sin_duplicados = eliminar_duplicados(lista)\n",
        "if lista_sin_duplicados:\n",
        "\n",
        "    print(f\"La lista sin duplicados es: {lista_sin_duplicados}\")"
      ],
      "metadata": {
        "colab": {
          "base_uri": "https://localhost:8080/",
          "height": 0
        },
        "id": "A6w1TgBF19YW",
        "outputId": "84439ca0-a76a-4981-a6b2-e0dda31776b2"
      },
      "execution_count": 48,
      "outputs": [
        {
          "output_type": "stream",
          "name": "stdout",
          "text": [
            "Ingrese un número entero para la lista (Enter para terminar): 2\n",
            "Ingrese un número entero para la lista (Enter para terminar): 3\n",
            "Ingrese un número entero para la lista (Enter para terminar): 4\n",
            "Ingrese un número entero para la lista (Enter para terminar): 5\n",
            "Ingrese un número entero para la lista (Enter para terminar): 5\n",
            "Ingrese un número entero para la lista (Enter para terminar): 3\n",
            "Ingrese un número entero para la lista (Enter para terminar): 7\n",
            "Ingrese un número entero para la lista (Enter para terminar): 8\n",
            "Ingrese un número entero para la lista (Enter para terminar): 2\n",
            "Ingrese un número entero para la lista (Enter para terminar): \n",
            "La lista sin duplicados es: [2, 3, 4, 5, 7, 8]\n"
          ]
        }
      ]
    },
    {
      "cell_type": "code",
      "source": [
        "# 5.- Escribe una función que calcule la media y la mediana de una lista de números enteros. \n",
        "#La media es la suma de todos los elementos y dividido entre la cantidad de elementos\n",
        "#La mediana es el valor que queda en la mitad de la lista cuando se ordena de forma ascendente. \n",
        "#Si la lista tiene un número par de elementos, la mediana se calcula como el promedio de los dos valores centrales. \n",
        "#Puedes utilizar el método sort() para ordenar la lista y luego calcular la mediana según el tamaño de la lista.\n",
        "def calcular_media_mediana(lista):\n",
        "    try:\n",
        "        lista.sort() # ordenar la lista de menor a mayor\n",
        "        n = len(lista)\n",
        "        # Calcular la media\n",
        "        media = sum(lista) / n\n",
        "        \n",
        "        # Calcular la mediana\n",
        "        if n % 2 == 0:\n",
        "            mediana = (lista[n//2] + lista[n//2 - 1]) / 2\n",
        "        else:\n",
        "            mediana = lista[n//2]\n",
        "\n",
        "        return media, mediana\n",
        "    \n",
        "    except TypeError:\n",
        "        print(\"La lista debe contener sólo números enteros\")\n",
        "    except ZeroDivisionError:\n",
        "        print(\"La lista no puede estar vacía\")\n",
        "\n",
        "lista = [3, 5, 1, 8, 2, 9, 6]\n",
        "calcular_media_mediana(lista)"
      ],
      "metadata": {
        "colab": {
          "base_uri": "https://localhost:8080/",
          "height": 0
        },
        "id": "UtWwQvZ63a1z",
        "outputId": "709cbcca-bae7-438b-f6e2-04be761b9b76"
      },
      "execution_count": 49,
      "outputs": [
        {
          "output_type": "execute_result",
          "data": {
            "text/plain": [
              "(4.857142857142857, 5)"
            ]
          },
          "metadata": {},
          "execution_count": 49
        }
      ]
    },
    {
      "cell_type": "code",
      "source": [
        "# 6.- Escribe una función que calcule la media móvil de una lista de números enteros. \n",
        "# La media móvil es el promedio de un número determinado de elementos consecutivos de la lista. \n",
        "# Puedes utilizar unciclo y una variable de suma para calcular la media móvil de cada sublista y guardar los resultados en otra lista.\n",
        "def calcular_media_movil(lista, n):\n",
        "    try:\n",
        "        media_movil = []\n",
        "        for i in range(len(lista)-n+1):\n",
        "            sublista = lista[i:i+n]\n",
        "            suma = sum(sublista)\n",
        "            promedio = suma / n\n",
        "            media_movil.append(promedio)\n",
        "        return media_movil\n",
        "    \n",
        "    except TypeError:\n",
        "        print(\"La lista debe contener sólo números enteros\")\n",
        "    except ZeroDivisionError:\n",
        "        print(\"La lista no puede estar vacía\")\n",
        "\n",
        "lista = [3, 5, 1, 8, 2, 9, 6]\n",
        "calcular_media_movil(lista, 3)"
      ],
      "metadata": {
        "colab": {
          "base_uri": "https://localhost:8080/",
          "height": 0
        },
        "id": "KQcCc88B5ShQ",
        "outputId": "0739ca0a-52bf-4929-e8f3-a87a284e9af4"
      },
      "execution_count": 50,
      "outputs": [
        {
          "output_type": "execute_result",
          "data": {
            "text/plain": [
              "[3.0,\n",
              " 4.666666666666667,\n",
              " 3.6666666666666665,\n",
              " 6.333333333333333,\n",
              " 5.666666666666667]"
            ]
          },
          "metadata": {},
          "execution_count": 50
        }
      ]
    }
  ]
}