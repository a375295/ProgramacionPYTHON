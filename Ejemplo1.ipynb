{
  "nbformat": 4,
  "nbformat_minor": 0,
  "metadata": {
    "colab": {
      "provenance": [],
      "authorship_tag": "ABX9TyPAtdt38Ed4f7vkmMObKdU0",
      "include_colab_link": true
    },
    "kernelspec": {
      "name": "python3",
      "display_name": "Python 3"
    },
    "language_info": {
      "name": "python"
    }
  },
  "cells": [
    {
      "cell_type": "markdown",
      "metadata": {
        "id": "view-in-github",
        "colab_type": "text"
      },
      "source": [
        "<a href=\"https://colab.research.google.com/github/a375295/ProgramacionPYTHON/blob/main/Ejemplo1.ipynb\" target=\"_parent\"><img src=\"https://colab.research.google.com/assets/colab-badge.svg\" alt=\"Open In Colab\"/></a>"
      ]
    },
    {
      "cell_type": "markdown",
      "source": [
        "# Mi primer programa en python con colaboratory\n",
        "\n",
        "\n",
        "1.   Usar Colaboratory\n",
        "2.   Usar GitHub\n",
        "3.   La sentencia de salida print\n",
        "\n"
      ],
      "metadata": {
        "id": "TmECYaP1y0Qh"
      }
    },
    {
      "cell_type": "code",
      "source": [
        "num  = 10\n"
      ],
      "metadata": {
        "id": "xU9qk29413Qk"
      },
      "execution_count": null,
      "outputs": []
    },
    {
      "cell_type": "code",
      "execution_count": null,
      "metadata": {
        "colab": {
          "base_uri": "https://localhost:8080/"
        },
        "id": "YRB7DjG7xgmM",
        "outputId": "77dee607-1c52-4fdb-92a3-7d7268a083aa"
      },
      "outputs": [
        {
          "output_type": "stream",
          "name": "stdout",
          "text": [
            "Hola mundo\n"
          ]
        }
      ],
      "source": [
        "print(\"Hola mundo\")"
      ]
    },
    {
      "cell_type": "markdown",
      "source": [
        "## Este es mi Nombre"
      ],
      "metadata": {
        "id": "rbLOAoOM01sd"
      }
    },
    {
      "cell_type": "code",
      "source": [
        "print(\"Emiliano Nevarez Palma\")"
      ],
      "metadata": {
        "colab": {
          "base_uri": "https://localhost:8080/"
        },
        "id": "t-xfY_rt0Hb1",
        "outputId": "7edba779-5ec7-4067-dc7b-2fb218aabad7"
      },
      "execution_count": null,
      "outputs": [
        {
          "output_type": "stream",
          "name": "stdout",
          "text": [
            "Emiliano Nevarez Palma\n"
          ]
        }
      ]
    }
  ]
}